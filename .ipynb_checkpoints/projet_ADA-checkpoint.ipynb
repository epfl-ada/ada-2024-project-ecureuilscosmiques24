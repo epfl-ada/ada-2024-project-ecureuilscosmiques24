{
 "cells": [
  {
   "cell_type": "code",
   "execution_count": 1,
   "id": "b5843cf2-9cf8-4e55-83fd-76b2e391944d",
   "metadata": {},
   "outputs": [],
   "source": [
    "import os\n",
    "import pandas as pd\n",
    "import numpy as np\n",
    "import matplotlib.pyplot as plt"
   ]
  },
  {
   "cell_type": "code",
   "execution_count": 2,
   "id": "10c32c90-b2a7-4f2e-af2d-3433c82d4c40",
   "metadata": {},
   "outputs": [],
   "source": [
    "# on est obligé de le faire car notre dataset a pas les noms des colonnes\n",
    "movie_col_name = [\"Wikipedia_movie_ID\",\n",
    "    \"Freebase_movie_ID\",\n",
    "    \"Movie_name\",\n",
    "    \"Movie_release_date\",\n",
    "    \"Movie_box_office_revenue\",\n",
    "    \"Movie_runtime\",\n",
    "    \"Movie_languages\", # Freebase ID:name tuples\n",
    "    \"Movie_countries\", # Freebase ID:name tuples\n",
    "    \"Movie_genres\"] # Freebase ID:name tuples\n",
    "\n",
    "char_col_name = [\"Wikipedia_movie_ID\",\n",
    "    \"Freebase_movie_ID\",\n",
    "    \"Movie_release_date\",\n",
    "    \"Character_name\",\n",
    "    \"Actor_date_of_birth\",\n",
    "    \"Actor_gender\",\n",
    "    \"Actor_height_m\", # in meters\n",
    "    \"Actor_ethnicity\", # Freebase ID\n",
    "    \"Actor_name\",\n",
    "    \"Actor_age_at_movie_release\",\n",
    "    \"Freebase_character_actor_map_ID\",\n",
    "    \"Freebase_character_ID\",\n",
    "    \"Freebase_actor_ID\"]"
   ]
  },
  {
   "cell_type": "code",
   "execution_count": 3,
   "id": "7dd684be-258f-46ab-b3e6-1ead4fa320d5",
   "metadata": {},
   "outputs": [],
   "source": [
    "df_movie = pd.read_csv('MovieSummaries/movie.metadata.tsv', delimiter = '\\t', names = movie_col_name, header = None)\n",
    "df_char = pd.read_csv('MovieSummaries/character.metadata.tsv', delimiter = '\\t', names = char_col_name, header = None)\n"
   ]
  },
  {
   "cell_type": "code",
   "execution_count": 4,
   "id": "18d465f3-9848-43e9-9cf8-e477adeefc78",
   "metadata": {},
   "outputs": [
    {
     "name": "stdout",
     "output_type": "stream",
     "text": [
      "shape movie: (81741, 9)\n",
      "shape char: (450669, 13)\n"
     ]
    }
   ],
   "source": [
    "print(\"shape movie:\", df_movie.shape)\n",
    "print(\"shape char:\", df_char.shape)"
   ]
  },
  {
   "cell_type": "code",
   "execution_count": 5,
   "id": "6bc40240-ea30-4e76-b41d-37138d85a230",
   "metadata": {
    "scrolled": true
   },
   "outputs": [
    {
     "name": "stdout",
     "output_type": "stream",
     "text": [
      "Wikipedia_movie_ID              0\n",
      "Freebase_movie_ID               0\n",
      "Movie_name                      0\n",
      "Movie_release_date           6902\n",
      "Movie_box_office_revenue    73340\n",
      "Movie_runtime               20450\n",
      "Movie_languages                 0\n",
      "Movie_countries                 0\n",
      "Movie_genres                    0\n",
      "dtype: int64\n",
      "\n",
      "Wikipedia_movie_ID                      0\n",
      "Freebase_movie_ID                       0\n",
      "Movie_release_date                   9995\n",
      "Character_name                     257875\n",
      "Actor_date_of_birth                106145\n",
      "Actor_gender                        45609\n",
      "Actor_height_m                     295845\n",
      "Actor_ethnicity                    344611\n",
      "Actor_name                           1228\n",
      "Actor_age_at_movie_release         158113\n",
      "Freebase_character_actor_map_ID         0\n",
      "Freebase_character_ID              257865\n",
      "Freebase_actor_ID                     815\n",
      "dtype: int64\n"
     ]
    }
   ],
   "source": [
    "print(df_movie.isnull().sum())\n",
    "print('')\n",
    "print(df_char.isnull().sum())"
   ]
  },
  {
   "cell_type": "code",
   "execution_count": 6,
   "id": "66c58817-c629-4003-aae7-dc460b88cad2",
   "metadata": {},
   "outputs": [],
   "source": [
    "#Actor_date_of_bith : type string, 1935-08-13 AAAA-MM-DD\n",
    "#Movie_release_date : type string, 2001-08-24 AAAA-MM-DD"
   ]
  },
  {
   "cell_type": "code",
   "execution_count": 7,
   "id": "a4c45cbc-030a-464b-8cd3-5b42277ae292",
   "metadata": {},
   "outputs": [
    {
     "name": "stdout",
     "output_type": "stream",
     "text": [
      "3\n"
     ]
    }
   ],
   "source": [
    "common_col = set(movie_col_name) & set(char_col_name) # trois colonnes identiques\n",
    "print(len(common_col))"
   ]
  },
  {
   "cell_type": "code",
   "execution_count": 8,
   "id": "a2ce5ec1-3666-44c7-87eb-0ef49b122532",
   "metadata": {},
   "outputs": [
    {
     "data": {
      "text/plain": [
       "(450669, 20)"
      ]
     },
     "execution_count": 8,
     "metadata": {},
     "output_type": "execute_result"
    }
   ],
   "source": [
    "merged_df = pd.merge(df_movie, df_char, on=['Wikipedia_movie_ID', 'Freebase_movie_ID'], how='inner', suffixes=('', '_y'))\n",
    "merged_df.shape"
   ]
  },
  {
   "cell_type": "code",
   "execution_count": 9,
   "id": "9ead2c40-488b-441a-a6f6-66a5603bb8fd",
   "metadata": {},
   "outputs": [],
   "source": [
    "merged_df['Movie_release_date'] = merged_df['Movie_release_date'].combine_first(merged_df['Movie_release_date_y'])"
   ]
  },
  {
   "cell_type": "code",
   "execution_count": 10,
   "id": "6f36f80b-3c19-4e60-889c-7ed51345b116",
   "metadata": {},
   "outputs": [
    {
     "name": "stdout",
     "output_type": "stream",
     "text": [
      "(450669, 19)\n",
      "Index(['Wikipedia_movie_ID', 'Freebase_movie_ID', 'Movie_name',\n",
      "       'Movie_release_date', 'Movie_box_office_revenue', 'Movie_runtime',\n",
      "       'Movie_languages', 'Movie_countries', 'Movie_genres', 'Character_name',\n",
      "       'Actor_date_of_birth', 'Actor_gender', 'Actor_height_m',\n",
      "       'Actor_ethnicity', 'Actor_name', 'Actor_age_at_movie_release',\n",
      "       'Freebase_character_actor_map_ID', 'Freebase_character_ID',\n",
      "       'Freebase_actor_ID'],\n",
      "      dtype='object')\n",
      "Wikipedia_movie_ID                   int64\n",
      "Freebase_movie_ID                   object\n",
      "Movie_name                          object\n",
      "Movie_release_date                  object\n",
      "Movie_box_office_revenue           float64\n",
      "Movie_runtime                      float64\n",
      "Movie_languages                     object\n",
      "Movie_countries                     object\n",
      "Movie_genres                        object\n",
      "Character_name                      object\n",
      "Actor_date_of_birth                 object\n",
      "Actor_gender                        object\n",
      "Actor_height_m                     float64\n",
      "Actor_ethnicity                     object\n",
      "Actor_name                          object\n",
      "Actor_age_at_movie_release         float64\n",
      "Freebase_character_actor_map_ID     object\n",
      "Freebase_character_ID               object\n",
      "Freebase_actor_ID                   object\n",
      "dtype: object\n"
     ]
    }
   ],
   "source": [
    "merged_df.drop('Movie_release_date_y', axis =1, inplace = True, errors='ignore')\n",
    "\n",
    "print(merged_df.shape)\n",
    "print(merged_df.columns)\n",
    "print(merged_df.dtypes)\n"
   ]
  },
  {
   "cell_type": "code",
   "execution_count": 11,
   "id": "c2c2b1a9-9c3f-4fc9-82a2-56bbb866e657",
   "metadata": {},
   "outputs": [],
   "source": [
    "merged_df.loc[merged_df['Actor_gender'].isnull(),'Actor_gender'] = 'Unknown'\n",
    "# on remplace les données de genre par F/M et Unknown quand inconnu. \n",
    "#df.loc[mask, colonne] permet de modifier la colonne directement"
   ]
  },
  {
   "cell_type": "code",
   "execution_count": 12,
   "id": "a8ecfb72-b40b-48a4-a050-908500b18c42",
   "metadata": {},
   "outputs": [
    {
     "name": "stdout",
     "output_type": "stream",
     "text": [
      "42858\n"
     ]
    }
   ],
   "source": [
    "age_mask = (merged_df['Actor_age_at_movie_release'].isnull()) & (merged_df['Movie_release_date'].notnull()) & (merged_df['Actor_date_of_birth'].notnull())\n",
    "count_age_incomplete  = merged_df[age_mask].shape[0]\n",
    "print(count_age_incomplete)\n",
    "#il y'a 42'858 cas ou l'age est pas donné, mais calculable"
   ]
  },
  {
   "cell_type": "code",
   "execution_count": 17,
   "id": "2283d883-0b02-48d4-85ee-dd6793d97b25",
   "metadata": {},
   "outputs": [],
   "source": [
    "merged_df['Movie_release_date'] = pd.to_datetime(merged_df['Movie_release_date'], errors='coerce')\n",
    "merged_df['Actor_date_of_birth'] = pd.to_datetime(merged_df['Actor_date_of_birth'], errors='coerce')\n",
    "\n",
    "merged_df.loc[age_mask,'Actor_age_at_movie_release'] = (merged_df['Movie_release_date'] - merged_df['Actor_date_of_birth']).dt.days // 365\n",
    "# on ajoute l'âge de l'acteur au moment de la sortie comme étant la différence entre sa date de naissance et la date de sortie du film"
   ]
  },
  {
   "cell_type": "code",
   "execution_count": 15,
   "id": "f969a0bd-f19f-4cbe-9be1-4d08a3ee01bd",
   "metadata": {},
   "outputs": [
    {
     "name": "stdout",
     "output_type": "stream",
     "text": [
      "Wikipedia_movie_ID                      0\n",
      "Freebase_movie_ID                       0\n",
      "Movie_name                              0\n",
      "Movie_release_date                 176797\n",
      "Movie_box_office_revenue           349641\n",
      "Movie_runtime                       50470\n",
      "Movie_languages                         0\n",
      "Movie_countries                         0\n",
      "Movie_genres                            0\n",
      "Character_name                     257875\n",
      "Actor_date_of_birth                120782\n",
      "Actor_gender                            0\n",
      "Actor_height_m                     295845\n",
      "Actor_ethnicity                    344611\n",
      "Actor_name                           1228\n",
      "Actor_age_at_movie_release         137082\n",
      "Freebase_character_actor_map_ID         0\n",
      "Freebase_character_ID              257865\n",
      "Freebase_actor_ID                     815\n",
      "dtype: int64\n"
     ]
    }
   ],
   "source": [
    "print(merged_df.isnull().sum())"
   ]
  },
  {
   "cell_type": "markdown",
   "id": "9ce3fd9e-beca-4166-8942-5264dad57e85",
   "metadata": {},
   "source": [
    "# Analyse des valeurs manquantes après traitement des données\n",
    "\n",
    "## Colonne par colonne\n",
    "\n",
    "1. **`Movie_release_date`**  \n",
    "   - Il reste encore beaucoup de valeurs manquantes (176 797), et il semble que ce soit un champ critique pour les analyses historiques.\n",
    "   - Assure-toi de filtrer les films sans date de sortie pour les analyses chronologiques. Tu peux limiter les analyses de tendance dans le temps aux films avec des dates valides et existantes.\n",
    "   - DONC créer un dataset avec uniquement les données avec dates de sorties.\n",
    "\n",
    "2. **`Movie_box_office_revenue`**  \n",
    "   - Bien que les valeurs manquantes aient été réduites, cette colonne reste très incomplète (349 641 valeurs manquantes).\n",
    "   - Envisage de limiter l'analyse d'impact commercial (succès au box-office) aux films avec des données valides, ou d'utiliser des imputations de moyenne/médiane par genre ou décennie.\n",
    "   - DONC créer un dataset avec les données nécessaires et uniquement les valeurs complètes\n",
    "\n",
    "3. **`Movie_runtime`**  \n",
    "   - Il y a encore environ 50,470 valeurs manquantes. Pour l’analyse sur la durée des films, tu peux imputer ces valeurs avec la moyenne ou la médiane par genre pour garder un maximum de films dans cette analyse.\n",
    "   - A PRIORI PAS utile pour nous Potentiellement à enlever\n",
    "  \n",
    "4. **`Character_name`** et **`Freebase_character_ID`**  \n",
    "   - Ces deux colonnes ont encore une proportion importante de valeurs manquantes, mais elles ne sont pas critiques pour les analyses de genre, de succès ou de tendances géographiques.\n",
    "   - POTENTIELLEMENT à enlever\n",
    "     \n",
    "5. **`Actor_date_of_birth`** et **`Actor_age_at_movie_release`**  \n",
    "   - Ces colonnes sont utiles pour une analyse par âge, mais ont encore une quantité notable de valeurs manquantes (120 782 et 137 082, respectivement).\n",
    "   - Pour des analyses d'âge, tu peux faire des approximations par groupe d'âge ou bien te concentrer sur les enregistrements complets si l'exactitude est prioritaire.\n",
    "   - PLUS utile ou peut être pour un bonus. \n",
    "\n",
    "6. **`Actor_gender`**  \n",
    "   - Plus aucune valeur manquante ici !\n",
    "   - J'ai remplacé les données NaN par Unknown. On peut techniquement faire mieux en supposant que des hommes jouent des hommes et des femmes des femmes, et donc avec le nom du personnage retrouver le genre de l'acteur (Mr. Bean, il est probable qu'il était incarné par un homme)\n",
    "  \n",
    "\n",
    "7. **`Actor_ethnicity`** et **`Actor_height_m`**  \n",
    "   - Étant donné les nombreuses valeurs manquantes, les analyses basées sur ces informations (notamment l'ethnicité) risquent de ne pas être fiables avec ce dataset.\n",
    "   - Mieux vaut éviter d’inclure ces colonnes dans les analyses, à moins d’accepter une marge d’erreur élevée.\n",
    "   - A enlever ducoup car inutile pour nous et imcomplet "
   ]
  },
  {
   "cell_type": "code",
   "execution_count": null,
   "id": "3818b56e-d53d-4b28-8274-37df5c93a647",
   "metadata": {},
   "outputs": [],
   "source": []
  }
 ],
 "metadata": {
  "kernelspec": {
   "display_name": "Python 3 (ipykernel)",
   "language": "python",
   "name": "python3"
  },
  "language_info": {
   "codemirror_mode": {
    "name": "ipython",
    "version": 3
   },
   "file_extension": ".py",
   "mimetype": "text/x-python",
   "name": "python",
   "nbconvert_exporter": "python",
   "pygments_lexer": "ipython3",
   "version": "3.11.9"
  }
 },
 "nbformat": 4,
 "nbformat_minor": 5
}
