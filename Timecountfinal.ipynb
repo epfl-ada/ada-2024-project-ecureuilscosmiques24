{
 "cells": [
  {
   "cell_type": "code",
   "execution_count": 19,
   "id": "47210d32-1d78-4924-9b01-6b4021814d12",
   "metadata": {},
   "outputs": [],
   "source": [
    "import pandas as pd\n",
    "import numpy as np\n",
    "import matplotlib.pyplot as plt\n",
    "import seaborn as sns\n",
    "import networkx as nx\n",
    "import statsmodels.api as sm\n",
    "import statsmodels.formula.api as smf\n",
    "%matplotlib inline\n",
    "import os\n",
    "import ast\n",
    "import warnings\n",
    "warnings.filterwarnings('ignore')\n",
    "from helpers import *"
   ]
  },
  {
   "cell_type": "markdown",
   "id": "ce554721-a428-4911-b58e-0c1752d87fb4",
   "metadata": {},
   "source": [
    "### 5.1.2 Matching on by generation\n",
    "First we are going to count the number of movies per actor per generation which will be our interest variable for representativeness. After the movies are separeted in different dataframes according the generation they belong. Then for each dataset we are going to calculate the propensity score for each line, then we are going to make the mean of the propensity score for each actor, and keep only one feature for each actor in the dataset (so that actor that play multiple times don't have more chance to be choosen than other ones). After that, 350 actors will be match according to their gender so as to delete the biases for each dataset. Finally statistics tests will be made to assess the representativeness of woman and the evolution according to the generations. To know if after taking into account the biases the men are still more represented than women, a t-test is going to be made between the number of movies where women and men play in the matched sample for each generation. Chi2 test are going to be made between generations matched values to know if the distribution of men/women change significantly according to the time. "
   ]
  },
  {
   "cell_type": "code",
   "execution_count": 20,
   "id": "2e8f3715-09be-4f5e-a970-7b1215d2b5e7",
   "metadata": {},
   "outputs": [],
   "source": [
    "df = pd.read_csv(\"data_cleaned.csv\", index_col=0)"
   ]
  },
  {
   "cell_type": "markdown",
   "id": "1ace1c2b-f280-4cd4-ae74-c3d5b19f43f2",
   "metadata": {},
   "source": [
    "### 5.1.2.1 Dataset processing\n",
    "We replace the characters that are problematic in string for the logistic regression. We delete the NA values. And we apply generation function for each line to treat them next."
   ]
  },
  {
   "cell_type": "code",
   "execution_count": 21,
   "id": "51827802",
   "metadata": {},
   "outputs": [],
   "source": [
    "df = data_preparation(df)"
   ]
  },
  {
   "cell_type": "raw",
   "id": "a019f684-e124-4609-8833-1ed0db1b360b",
   "metadata": {
    "vscode": {
     "languageId": "raw"
    }
   },
   "source": [
    "#replace to do regression\n",
    "df.columns = df.columns.str.replace(' ', '')\n",
    "df.columns = df.columns.str.replace('-', '')\n",
    "df.columns = df.columns.str.replace('&', '')\n",
    "\n",
    "#only keep not na values\n",
    "df= df[df['Movie_box_office_scaled'].notna()]\n",
    "df= df[df['Movie_runtime'].notna()]\n",
    "df= df[df['Actor_height_scaled'].notna()]\n",
    "df= df[df['Actor_name'].notna()]\n",
    "#count number of films done per actor\n",
    "df"
   ]
  },
  {
   "cell_type": "code",
   "execution_count": 22,
   "id": "1fe2958b-e935-4ee0-8979-7d0846200df9",
   "metadata": {},
   "outputs": [],
   "source": [
    "#apply generation function \n",
    "def gen25(year):\n",
    "    if 1900<year<=1925:\n",
    "        return \"1900-1925\"\n",
    "    if 1925<year<=1950:\n",
    "        return \"1925-1950\"\n",
    "    if 1950<year<=1975:\n",
    "        return \"1950-1975\"\n",
    "    if 1975<year<=2000:\n",
    "        return \"1975-2000\"\n",
    "    if 2000<year<= 2025:\n",
    "        return \"2000-2020\"\n",
    "\n",
    "order = [\"2000-2020\",\"1975-2000\",\"1950-1975\",\"1925-1950\",\"1900-1925\"]\n",
    "\n",
    "df['Generation'] = df['Movie_release_date'].apply(gen25)\n",
    "df['Generation'] = df['Generation'].astype(\"category\")\n",
    "df['Generation'].cat.reorder_categories(order,ordered=True)\n",
    "df['count']=df.groupby(['Actor_name','Generation']).Actor_name.transform('count')"
   ]
  },
  {
   "cell_type": "markdown",
   "id": "594acbce-2d59-4141-beb7-9da1adac91d3",
   "metadata": {},
   "source": [
    "### 5.1.2.3 Datasets creation\n",
    "Four datasets are created for the generations: >2000, 1975-2000, 1950-1975,1925-1950 (1900-1925 not taken into account because of not enough values). Then all number values are normalized except the count and the categorical value for each dataset. The index are reset to allow to find them back after the analysis."
   ]
  },
  {
   "cell_type": "code",
   "execution_count": 23,
   "id": "87375667-56ee-4748-808c-5180638f435e",
   "metadata": {},
   "outputs": [],
   "source": [
    "#create a list of dataframe for the last dataset in term of year\n",
    "listdf = [df[df.Generation== order[i]] for i in range(len(order)-1)]\n"
   ]
  },
  {
   "cell_type": "code",
   "execution_count": 24,
   "id": "b20342e6-5db0-4148-a690-1c0cf9fa234e",
   "metadata": {},
   "outputs": [],
   "source": [
    "#standardize the values\n",
    "cols = df.columns.difference(['Actor_gender_male','Generation','Actor_name','Movie_name','count'])\n",
    "\n",
    "from sklearn.preprocessing import StandardScaler\n",
    "sc = StandardScaler()\n",
    "for i in listdf:\n",
    "    i[cols] = sc.fit_transform(i[cols])\n",
    "    i.reset_index(drop=True, inplace=True)\n",
    "    \n",
    "#listdf[0]"
   ]
  },
  {
   "cell_type": "markdown",
   "id": "d9819439-b418-4ee8-b811-4cfc605ddefe",
   "metadata": {},
   "source": [
    "### 5.1.2.4 Regression and matching\n",
    "Here we do the regression, propensity score and matching for each dataset, then we retrieve de number men and women that were matched for further analysis. Furthermore a t-test is done to know if there men are significantly over represented. "
   ]
  },
  {
   "cell_type": "code",
   "execution_count": 25,
   "id": "66d4798b-f7a9-47f5-afa3-a8ca6e2d7e9d",
   "metadata": {
    "scrolled": true
   },
   "outputs": [
    {
     "name": "stdout",
     "output_type": "stream",
     "text": [
      "Optimization terminated successfully.\n",
      "         Current function value: 0.605946\n",
      "         Iterations 6\n",
      "5740\n",
      "Number of successful matching: 143\n",
      "TtestResult(statistic=1.440174866401392, pvalue=0.15091937584748102, df=284.0)\n",
      "Optimization terminated successfully.\n",
      "         Current function value: 0.580296\n",
      "         Iterations 6\n",
      "4400\n",
      "Number of successful matching: 134\n",
      "TtestResult(statistic=4.616278051082542, pvalue=6.085286940427739e-06, df=266.0)\n",
      "Optimization terminated successfully.\n",
      "         Current function value: 0.610996\n",
      "         Iterations 6\n",
      "1102\n",
      "Number of successful matching: 135\n",
      "TtestResult(statistic=2.557261403049082, pvalue=0.01110114279631233, df=268.0)\n",
      "Optimization terminated successfully.\n",
      "         Current function value: 0.669989\n",
      "         Iterations 6\n",
      "359\n",
      "Number of successful matching: 146\n",
      "TtestResult(statistic=-0.2172077128982076, pvalue=0.8281992092781166, df=290.0)\n"
     ]
    }
   ],
   "source": [
    "from scipy import stats\n",
    "import statsmodels.api as sm\n",
    "import statsmodels.formula.api as smf\n",
    "import networkx as nx\n",
    "from scipy.stats import ttest_ind\n",
    "#matching\n",
    "def computediff(prop1,prop2):\n",
    "    return np.abs(prop1-prop2)\n",
    "def compute_similarity(prop1,prop2):\n",
    "    return 1-np.abs(prop1-prop2)\n",
    "#two list containing number of men and women of each generation for our sample\n",
    "list_cm=[]\n",
    "list_cw = []\n",
    "\n",
    "for i in listdf:\n",
    "    mod = smf.logit(formula=\"Actor_gender_male ~  Movie_release_date * Movie_box_office_scaled + Movie_runtime + Actor_height_scaled +\\\n",
    "                    C(Cluster_Name_Comedy_Action) + C(Cluster_Name_Comedy_Short_film) + C(Cluster_Name_Crime_Thriller) +\\\n",
    "                    C(Cluster_Name_Drama) + C(Cluster_Name_Drama_BW) + C(Cluster_Name_Drama_Comedy) + C(Cluster_Name_Drama_Indie) +\\\n",
    "                    C(Cluster_Name_Drama_Romance) + C(Cluster_Name_Drama_Thriller) + C(Cluster_Name_Romance_Comedy) +\\\n",
    "                    C(Cluster_Name_Short_film_World_cinema) + C(Cluster_Name_Thriller)\", data=i)\n",
    "    res = mod.fit()\n",
    "    #propensity score calculation\n",
    "    i['Propensity_score'] = res.predict()\n",
    "    #only keep unique value of actor to do so the mean of propensity score is calculated for each actor then the matching is done and a unique value is kept \n",
    "    i['Propensity_score'] = i.groupby('Actor_name')['Propensity_score'].transform('mean')\n",
    "    i.drop_duplicates(subset=['Actor_name'], inplace=True,ignore_index=True)\n",
    "    print(i.Propensity_score.count())\n",
    "    #matching is done on 350 sample because only total of 359 for the first generation taken (in term of years)\n",
    "    dftest = i.sample(n=350,random_state = 22)\n",
    "    woman = dftest[dftest.Actor_gender_male == 0]\n",
    "    men =  dftest[dftest.Actor_gender_male == 1 ]  \n",
    "    G = nx.Graph()\n",
    "    for men_id,men_row in men.iterrows():\n",
    "        for woman_id, woman_row in woman.iterrows():\n",
    "            diff= computediff(woman_row[\"Propensity_score\"],men_row[\"Propensity_score\"])\n",
    "            if (diff<0.05):\n",
    "                similarity =  compute_similarity(woman_row[\"Propensity_score\"],men_row[\"Propensity_score\"])\n",
    "                G.add_weighted_edges_from([(woman_id, men_id, similarity)])\n",
    "    matching = nx.max_weight_matching(G)\n",
    "    print(\"Number of successful matching:\",len(matching))\n",
    "    #reconstruct men and women feature after match\n",
    "    matched = [j[0] for j in list(matching)] + [j[1] for j in list(matching)]\n",
    "    bd = i.iloc[matched]\n",
    "    men = bd.loc[bd['Actor_gender_male'] == 1]\n",
    "    woman= bd.loc[bd['Actor_gender_male'] == 0]\n",
    "    #ttest to know if men are significantly over represented\n",
    "    print(ttest_ind(men['count'],woman['count']))\n",
    "    #total value of count is calculated for the generation for men and women\n",
    "    list_cm.append(men['count'].sum())\n",
    "    list_cw.append(woman['count'].sum())\n",
    "    "
   ]
  },
  {
   "cell_type": "markdown",
   "id": "877db855-b5f7-4516-bc61-b04fe371cb15",
   "metadata": {},
   "source": [
    "### 5.1.2.5 Chi2tests\n",
    "Here chi2 tests are made to know if there are signficant difference in men and women representation along the time. It is calculated between all datasets and by comparing all datasets one to one."
   ]
  },
  {
   "cell_type": "code",
   "execution_count": 26,
   "id": "d2e1690b-9b01-4e87-a0f6-cdaeaf32a7b2",
   "metadata": {},
   "outputs": [
    {
     "name": "stdout",
     "output_type": "stream",
     "text": [
      "[659, 759, 410, 291] [546, 415, 313, 297] [0.45311203319502075, 0.3534923339011925, 0.43291839557399725, 0.5051020408163265]\n",
      "res.statistic: 44.057503897874845\n",
      "res.pavalue: 1.467325412216912e-09\n"
     ]
    }
   ],
   "source": [
    "import scipy\n",
    "vector=[[list_cm],[list_cw]]\n",
    "\n",
    "#here we print the relative proportion of film that were played by woman\n",
    "print(list_cm,list_cw,[(list_cw[i]/(list_cw[i]+list_cm[i])) for i in range(len(list_cm))])\n",
    "\n",
    "#chi2test is done to see if the representation change over all generations\n",
    "res = scipy.stats.chi2_contingency(vector)\n",
    "print(\"res.statistic:\",res.statistic)\n",
    "print(\"res.pavalue:\",res.pvalue)\n"
   ]
  },
  {
   "cell_type": "code",
   "execution_count": 27,
   "id": "79402af8-087c-44b7-a78f-a42c790a1653",
   "metadata": {},
   "outputs": [
    {
     "name": "stdout",
     "output_type": "stream",
     "text": [
      "Chi2 test between the generation 1 and generation 1\n",
      "res.statistic: 0.0\n",
      "res.pavalue: 1.0\n",
      "Chi2 test between the generation 1 and generation 2\n",
      "res.statistic: 24.097836290302936\n",
      "res.pavalue: 9.156312132531109e-07\n",
      "Chi2 test between the generation 1 and generation 3\n",
      "res.statistic: 0.6664124207341842\n",
      "res.pavalue: 0.41430520363557954\n",
      "Chi2 test between the generation 1 and generation 4\n",
      "res.statistic: 4.081623728094725\n",
      "res.pavalue: 0.043351980234582546\n",
      "Chi2 test between the generation 2 and generation 1\n",
      "res.statistic: 24.097836290302936\n",
      "res.pavalue: 9.156312132531109e-07\n",
      "Chi2 test between the generation 2 and generation 2\n",
      "res.statistic: 0.0\n",
      "res.pavalue: 1.0\n",
      "Chi2 test between the generation 2 and generation 3\n",
      "res.statistic: 11.602372442879847\n",
      "res.pavalue: 0.0006586774007006551\n",
      "Chi2 test between the generation 2 and generation 4\n",
      "res.statistic: 36.76998156840669\n",
      "res.pavalue: 1.329212401381599e-09\n",
      "Chi2 test between the generation 3 and generation 1\n",
      "res.statistic: 0.666412420734184\n",
      "res.pavalue: 0.41430520363557966\n",
      "Chi2 test between the generation 3 and generation 2\n",
      "res.statistic: 11.602372442879847\n",
      "res.pavalue: 0.0006586774007006551\n",
      "Chi2 test between the generation 3 and generation 3\n",
      "res.statistic: 0.0\n",
      "res.pavalue: 1.0\n",
      "Chi2 test between the generation 3 and generation 4\n",
      "res.statistic: 6.504190679383079\n",
      "res.pavalue: 0.010762053806542831\n",
      "Chi2 test between the generation 4 and generation 1\n",
      "res.statistic: 4.081623728094725\n",
      "res.pavalue: 0.043351980234582546\n",
      "Chi2 test between the generation 4 and generation 2\n",
      "res.statistic: 36.76998156840669\n",
      "res.pavalue: 1.329212401381599e-09\n",
      "Chi2 test between the generation 4 and generation 3\n",
      "res.statistic: 6.504190679383078\n",
      "res.pavalue: 0.010762053806542837\n",
      "Chi2 test between the generation 4 and generation 4\n",
      "res.statistic: 0.0\n",
      "res.pavalue: 1.0\n"
     ]
    }
   ],
   "source": [
    "#chi2test is done to see if the representation change over generations one to one\n",
    "for i in range(0,len(list_cm)):\n",
    "    for j in range(0,len(list_cm)):\n",
    "        print(\"Chi2 test between the generation\",i+1,\"and generation\",j+1)\n",
    "        vector=[[list_cm[i],list_cm[j]],[list_cw[i],list_cw[j]]]\n",
    "        res = scipy.stats.chi2_contingency(vector)\n",
    "        print(\"res.statistic:\",res.statistic)\n",
    "        print(\"res.pavalue:\",res.pvalue)\n",
    "                "
   ]
  },
  {
   "cell_type": "markdown",
   "id": "d9c6db26-98e0-44ec-8394-08040a2c3898",
   "metadata": {},
   "source": [
    "### Special mention, trash result\n",
    "Here we show that depending on the sample the results are not the same and differ too much, the results are indeed trash. "
   ]
  },
  {
   "cell_type": "raw",
   "id": "bfd610bb-a5a7-4fd1-9c26-ef868b4c2410",
   "metadata": {
    "vscode": {
     "languageId": "raw"
    }
   },
   "source": [
    "nsample=[1,10,22,42,50,100,150,239,777,345]\n",
    "for j in nsample:\n",
    "    list_cm=[]\n",
    "    list_cw = []\n",
    "    a=0\n",
    "    print(\"\\n For the random sample\",j)\n",
    "    for i in listdf:\n",
    "        mod = smf.logit(formula=\"Actor_gender_male ~  Movie_release_date * Movie_box_office_scaled + Movie_runtime + Actor_height_scaled +\\\n",
    "                    C(Cluster_Name_Comedy_Action) + C(Cluster_Name_Comedy_Short_film) + C(Cluster_Name_Crime_Thriller) +\\\n",
    "                    C(Cluster_Name_Drama) + C(Cluster_Name_Drama_BW) + C(Cluster_Name_Drama_Comedy) + C(Cluster_Name_Drama_Indie) +\\\n",
    "                    C(Cluster_Name_Drama_Romance) + C(Cluster_Name_Drama_Thriller) + C(Cluster_Name_Romance_Comedy) +\\\n",
    "                    C(Cluster_Name_Short_film_World_cinema) + C(Cluster_Name_Thriller)\", data=i)\n",
    "        res = mod.fit()\n",
    "        #propensity score calculation\n",
    "        i['Propensity_score'] = res.predict()\n",
    "        #only keep unique value of actor to do so the mean of propensity score is calculated for each actor then the matching is done and a unique value is kept \n",
    "        i['Propensity_score'] = i.groupby('Actor_name')['Propensity_score'].transform('mean')\n",
    "        i.drop_duplicates(subset=['Actor_name'], inplace=True,ignore_index=True)\n",
    "        #matching is done on 350 sample because only total of 359 for the first generation taken (in term of years)\n",
    "        dftest = i.sample(n=350,random_state = j)\n",
    "        woman = dftest[dftest.Actor_gender_male == 0]\n",
    "        men =  dftest[dftest.Actor_gender_male == 1 ]  \n",
    "        G = nx.Graph()\n",
    "        for men_id,men_row in men.iterrows():\n",
    "            for woman_id, woman_row in woman.iterrows():\n",
    "                diff= computediff(woman_row[\"Propensity_score\"],men_row[\"Propensity_score\"])\n",
    "                if (diff<0.05):\n",
    "                    similarity =  compute_similarity(woman_row[\"Propensity_score\"],men_row[\"Propensity_score\"])\n",
    "                    G.add_weighted_edges_from([(woman_id, men_id, similarity)])\n",
    "        matching = nx.max_weight_matching(G)\n",
    "        #reconstruct men and women feature after match\n",
    "        matched = [j[0] for j in list(matching)] + [j[1] for j in list(matching)]\n",
    "        bd = i.iloc[matched]\n",
    "        men = bd.loc[bd['Actor_gender_male'] == 1]\n",
    "        woman= bd.loc[bd['Actor_gender_male'] == 0]\n",
    "        #ttest to know if men are significantly over represented\n",
    "        print(\"for generation\", order[a],\"the results of t-test is \",ttest_ind(men['count'],woman['count']))\n",
    "        #total value of count is calculated for the generation for men and women\n",
    "        list_cm.append(men['count'].sum())\n",
    "        list_cw.append(woman['count'].sum())\n",
    "        a=a+1"
   ]
  },
  {
   "cell_type": "markdown",
   "id": "4c7ac43d-f74b-4fbe-b1da-03452c2176b3",
   "metadata": {},
   "source": [
    "# "
   ]
  }
 ],
 "metadata": {
  "kernelspec": {
   "display_name": "ada",
   "language": "python",
   "name": "python3"
  },
  "language_info": {
   "codemirror_mode": {
    "name": "ipython",
    "version": 3
   },
   "file_extension": ".py",
   "mimetype": "text/x-python",
   "name": "python",
   "nbconvert_exporter": "python",
   "pygments_lexer": "ipython3",
   "version": "3.11.9"
  }
 },
 "nbformat": 4,
 "nbformat_minor": 5
}
