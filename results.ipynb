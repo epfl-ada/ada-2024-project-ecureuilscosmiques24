{
 "cells": [
  {
   "cell_type": "code",
   "execution_count": 1,
   "metadata": {},
   "outputs": [],
   "source": [
    "# Import the packages\n",
    "import numpy as np\n",
    "import matplotlib.pyplot as plt\n",
    "import pandas as pd\n",
    "import seaborn as sns\n",
    "from sklearn.preprocessing import StandardScaler\n",
    "from sklearn.cluster import KMeans\n",
    "from sklearn.preprocessing import MultiLabelBinarizer\n",
    "from sklearn.metrics import silhouette_score"
   ]
  },
  {
   "cell_type": "code",
   "execution_count": null,
   "metadata": {},
   "outputs": [],
   "source": [
    "plt.style.use(\"bmh\")\n",
    "alph = 0.5"
   ]
  },
  {
   "cell_type": "code",
   "execution_count": 2,
   "metadata": {},
   "outputs": [],
   "source": [
    "# Hide the warnings\n",
    "import warnings\n",
    "warnings.filterwarnings('ignore')"
   ]
  },
  {
   "cell_type": "code",
   "execution_count": 3,
   "metadata": {},
   "outputs": [],
   "source": [
    "# Import custom functions\n",
    "from helpers import *"
   ]
  },
  {
   "cell_type": "code",
   "execution_count": 4,
   "metadata": {},
   "outputs": [
    {
     "data": {
      "text/html": [
       "<div>\n",
       "<style scoped>\n",
       "    .dataframe tbody tr th:only-of-type {\n",
       "        vertical-align: middle;\n",
       "    }\n",
       "\n",
       "    .dataframe tbody tr th {\n",
       "        vertical-align: top;\n",
       "    }\n",
       "\n",
       "    .dataframe thead th {\n",
       "        text-align: right;\n",
       "    }\n",
       "</style>\n",
       "<table border=\"1\" class=\"dataframe\">\n",
       "  <thead>\n",
       "    <tr style=\"text-align: right;\">\n",
       "      <th></th>\n",
       "      <th>Movie_name</th>\n",
       "      <th>Movie_release_date</th>\n",
       "      <th>Movie_box_office_revenue</th>\n",
       "      <th>Movie_runtime</th>\n",
       "      <th>Movie_languages</th>\n",
       "      <th>Movie_countries</th>\n",
       "      <th>Movie_genres</th>\n",
       "      <th>Actor_gender</th>\n",
       "      <th>Actor_height_m</th>\n",
       "      <th>Actor_ethnicity</th>\n",
       "      <th>Actor_name</th>\n",
       "      <th>Actor_age_at_movie_release</th>\n",
       "      <th>Main_genre</th>\n",
       "      <th>Main_country</th>\n",
       "    </tr>\n",
       "  </thead>\n",
       "  <tbody>\n",
       "    <tr>\n",
       "      <th>0</th>\n",
       "      <td>Ghosts of Mars</td>\n",
       "      <td>2001.0</td>\n",
       "      <td>14010832.0</td>\n",
       "      <td>98.0</td>\n",
       "      <td>['English']</td>\n",
       "      <td>['United States of America']</td>\n",
       "      <td>['Thriller', 'Science Fiction', 'Horror', 'Adv...</td>\n",
       "      <td>F</td>\n",
       "      <td>1.62</td>\n",
       "      <td>NaN</td>\n",
       "      <td>Wanda De Jesus</td>\n",
       "      <td>42.0</td>\n",
       "      <td>Thriller</td>\n",
       "      <td>United States of America</td>\n",
       "    </tr>\n",
       "    <tr>\n",
       "      <th>1</th>\n",
       "      <td>Ghosts of Mars</td>\n",
       "      <td>2001.0</td>\n",
       "      <td>14010832.0</td>\n",
       "      <td>98.0</td>\n",
       "      <td>['English']</td>\n",
       "      <td>['United States of America']</td>\n",
       "      <td>['Thriller', 'Science Fiction', 'Horror', 'Adv...</td>\n",
       "      <td>F</td>\n",
       "      <td>1.78</td>\n",
       "      <td>/m/044038p</td>\n",
       "      <td>Natasha Henstridge</td>\n",
       "      <td>27.0</td>\n",
       "      <td>Thriller</td>\n",
       "      <td>United States of America</td>\n",
       "    </tr>\n",
       "  </tbody>\n",
       "</table>\n",
       "</div>"
      ],
      "text/plain": [
       "       Movie_name  Movie_release_date  Movie_box_office_revenue  \\\n",
       "0  Ghosts of Mars              2001.0                14010832.0   \n",
       "1  Ghosts of Mars              2001.0                14010832.0   \n",
       "\n",
       "   Movie_runtime Movie_languages               Movie_countries  \\\n",
       "0           98.0     ['English']  ['United States of America']   \n",
       "1           98.0     ['English']  ['United States of America']   \n",
       "\n",
       "                                        Movie_genres Actor_gender  \\\n",
       "0  ['Thriller', 'Science Fiction', 'Horror', 'Adv...            F   \n",
       "1  ['Thriller', 'Science Fiction', 'Horror', 'Adv...            F   \n",
       "\n",
       "   Actor_height_m Actor_ethnicity          Actor_name  \\\n",
       "0            1.62             NaN      Wanda De Jesus   \n",
       "1            1.78      /m/044038p  Natasha Henstridge   \n",
       "\n",
       "   Actor_age_at_movie_release Main_genre              Main_country  \n",
       "0                        42.0   Thriller  United States of America  \n",
       "1                        27.0   Thriller  United States of America  "
      ]
     },
     "execution_count": 4,
     "metadata": {},
     "output_type": "execute_result"
    }
   ],
   "source": [
    "#Import the data obtained after the 2nd milestone\n",
    "data = pd.read_csv(\"./Milestone P2/Big_Cleaned_dataset.csv\", index_col=0)\n",
    "data.head(2)"
   ]
  },
  {
   "cell_type": "markdown",
   "metadata": {},
   "source": [
    "# 1.Dataset additional treatment"
   ]
  },
  {
   "cell_type": "markdown",
   "metadata": {},
   "source": [
    "We realized that some values must be treated again :\n",
    "- The sizes must be scaled because women are generally smaller than men\n",
    "- The box office revenues must be scaled because of the inflation\n",
    "- We need to associate a region to a country for spatial analysis\n",
    "- We have to reduce the number of genres by doing some clustering"
   ]
  },
  {
   "cell_type": "code",
   "execution_count": 5,
   "metadata": {},
   "outputs": [],
   "source": [
    "label = [\"Actor_gender_male\"]\n",
    "\n",
    "#Later on, we would like to rename some columns in the dataset\n",
    "col2rename = {\"Actor_gender\":label[0], \"Movie_box_office_revenue\":\"Movie_box_office_scaled\", \"Actor_height_m\":\"Actor_height_scaled\"}\n",
    "\n",
    "#Define the numerical and categorical features after renaming\n",
    "numerical_features = [\"Movie_release_date\", \"Movie_box_office_scaled\", \"Movie_runtime\",\n",
    "                      \"Actor_age_at_movie_release\", \"Actor_height_scaled\"]\n",
    "categorical_features = [\"Cluster_Name\", \"Region\"]"
   ]
  },
  {
   "cell_type": "markdown",
   "metadata": {},
   "source": [
    "## 1.1 Associating Regions"
   ]
  },
  {
   "cell_type": "code",
   "execution_count": 6,
   "metadata": {},
   "outputs": [
    {
     "data": {
      "text/plain": [
       "Main_country\n",
       "United States of America    134089\n",
       "India                        14376\n",
       "France                        9734\n",
       "United Kingdom                9557\n",
       "Japan                         5788\n",
       "                             ...  \n",
       "Armenia                          1\n",
       "Nigeria                          1\n",
       "Palestinian territories          1\n",
       "Bhutan                           1\n",
       "Algeria                          1\n",
       "Name: count, Length: 103, dtype: int64"
      ]
     },
     "execution_count": 6,
     "metadata": {},
     "output_type": "execute_result"
    }
   ],
   "source": [
    "#Check how many countries we have\n",
    "data['Main_country'].value_counts()"
   ]
  },
  {
   "cell_type": "code",
   "execution_count": 7,
   "metadata": {},
   "outputs": [
    {
     "data": {
      "text/plain": [
       "Region\n",
       "North America    136883\n",
       "West Europa       31159\n",
       "Asia              25106\n",
       "East Europa        2795\n",
       "Oceania            2027\n",
       "South America       696\n",
       "Dead country        402\n",
       "Africa              218\n",
       "Name: count, dtype: int64"
      ]
     },
     "execution_count": 7,
     "metadata": {},
     "output_type": "execute_result"
    }
   ],
   "source": [
    "#Associate a region to each country\n",
    "data[\"Region\"] = data[\"Main_country\"].copy().apply(country_to_region)\n",
    "data[\"Region\"].value_counts()"
   ]
  },
  {
   "cell_type": "code",
   "execution_count": 8,
   "metadata": {},
   "outputs": [
    {
     "data": {
      "text/plain": [
       "array([], dtype=object)"
      ]
     },
     "execution_count": 8,
     "metadata": {},
     "output_type": "execute_result"
    }
   ],
   "source": [
    "#Verify if we didn't forget any country\n",
    "data[data[\"Region\"]==\"Unknown region\"][\"Main_country\"].unique()"
   ]
  },
  {
   "cell_type": "markdown",
   "metadata": {},
   "source": [
    "## 1.2 Clustering"
   ]
  },
  {
   "cell_type": "code",
   "execution_count": 9,
   "metadata": {},
   "outputs": [],
   "source": [
    "data['Movie_genres'] = data['Movie_genres'].apply(string2dict)\n",
    "df2 = data.drop_duplicates(subset='Movie_name', inplace=False)"
   ]
  },
  {
   "cell_type": "code",
   "execution_count": 10,
   "metadata": {},
   "outputs": [
    {
     "name": "stdout",
     "output_type": "stream",
     "text": [
      "111029\n",
      "Movie_genres\n",
      "Drama              14216\n",
      "Comedy              8442\n",
      "Romance Film        4963\n",
      "Black-and-white     4652\n",
      "Thriller            4344\n",
      "Action              4079\n",
      "Indie               3530\n",
      "Crime Fiction       3212\n",
      "World cinema        2823\n",
      "Short Film          2749\n",
      "Name: count, dtype: int64\n",
      "53010\n",
      "10\n"
     ]
    }
   ],
   "source": [
    "all_genres = df2['Movie_genres'].explode()\n",
    "\n",
    "genre_counts = all_genres.value_counts() #type series\n",
    "print(genre_counts.sum()) #length 293 genres différents\n",
    "\n",
    "prop_genre = genre_counts/genre_counts.sum()\n",
    "#print(prop_genre)\n",
    "\n",
    "cum_prop_genre = prop_genre.cumsum()\n",
    "#print(cum_prop_genre)\n",
    "\n",
    "genre_95 = cum_prop_genre[cum_prop_genre<=0.50]\n",
    "\n",
    "#print(genre_95.index)\n",
    "\n",
    "print(genre_counts[genre_95.index])\n",
    "print(genre_counts[genre_95.index].sum())\n",
    "print(len(genre_95.index))"
   ]
  },
  {
   "cell_type": "code",
   "execution_count": 11,
   "metadata": {},
   "outputs": [
    {
     "name": "stdout",
     "output_type": "stream",
     "text": [
      "There are 343 genres\n"
     ]
    }
   ],
   "source": [
    "MLB = MultiLabelBinarizer()\n",
    "genres_matrix = MLB.fit_transform(df2['Movie_genres'])\n",
    "print(f\"There are {genres_matrix.shape[1]} genres\") # il y'a 293 différents genres"
   ]
  },
  {
   "cell_type": "code",
   "execution_count": 12,
   "metadata": {},
   "outputs": [
    {
     "data": {
      "text/html": [
       "<div>\n",
       "<style scoped>\n",
       "    .dataframe tbody tr th:only-of-type {\n",
       "        vertical-align: middle;\n",
       "    }\n",
       "\n",
       "    .dataframe tbody tr th {\n",
       "        vertical-align: top;\n",
       "    }\n",
       "\n",
       "    .dataframe thead th {\n",
       "        text-align: right;\n",
       "    }\n",
       "</style>\n",
       "<table border=\"1\" class=\"dataframe\">\n",
       "  <thead>\n",
       "    <tr style=\"text-align: right;\">\n",
       "      <th></th>\n",
       "      <th>Drama</th>\n",
       "      <th>Comedy</th>\n",
       "      <th>Romance Film</th>\n",
       "      <th>Black-and-white</th>\n",
       "      <th>Thriller</th>\n",
       "      <th>Action</th>\n",
       "      <th>Indie</th>\n",
       "      <th>Crime Fiction</th>\n",
       "      <th>World cinema</th>\n",
       "      <th>Short Film</th>\n",
       "    </tr>\n",
       "    <tr>\n",
       "      <th>Movie_name</th>\n",
       "      <th></th>\n",
       "      <th></th>\n",
       "      <th></th>\n",
       "      <th></th>\n",
       "      <th></th>\n",
       "      <th></th>\n",
       "      <th></th>\n",
       "      <th></th>\n",
       "      <th></th>\n",
       "      <th></th>\n",
       "    </tr>\n",
       "  </thead>\n",
       "  <tbody>\n",
       "    <tr>\n",
       "      <th>Ghosts of Mars</th>\n",
       "      <td>0</td>\n",
       "      <td>0</td>\n",
       "      <td>0</td>\n",
       "      <td>0</td>\n",
       "      <td>1</td>\n",
       "      <td>1</td>\n",
       "      <td>0</td>\n",
       "      <td>0</td>\n",
       "      <td>0</td>\n",
       "      <td>0</td>\n",
       "    </tr>\n",
       "    <tr>\n",
       "      <th>Getting Away with Murder: The JonBenét Ramsey Mystery</th>\n",
       "      <td>1</td>\n",
       "      <td>0</td>\n",
       "      <td>0</td>\n",
       "      <td>0</td>\n",
       "      <td>0</td>\n",
       "      <td>0</td>\n",
       "      <td>0</td>\n",
       "      <td>0</td>\n",
       "      <td>0</td>\n",
       "      <td>0</td>\n",
       "    </tr>\n",
       "    <tr>\n",
       "      <th>The Gangsters</th>\n",
       "      <td>0</td>\n",
       "      <td>1</td>\n",
       "      <td>0</td>\n",
       "      <td>1</td>\n",
       "      <td>0</td>\n",
       "      <td>0</td>\n",
       "      <td>1</td>\n",
       "      <td>0</td>\n",
       "      <td>0</td>\n",
       "      <td>1</td>\n",
       "    </tr>\n",
       "    <tr>\n",
       "      <th>Alexander's Ragtime Band</th>\n",
       "      <td>0</td>\n",
       "      <td>1</td>\n",
       "      <td>0</td>\n",
       "      <td>1</td>\n",
       "      <td>0</td>\n",
       "      <td>0</td>\n",
       "      <td>0</td>\n",
       "      <td>0</td>\n",
       "      <td>0</td>\n",
       "      <td>0</td>\n",
       "    </tr>\n",
       "    <tr>\n",
       "      <th>Little city</th>\n",
       "      <td>1</td>\n",
       "      <td>1</td>\n",
       "      <td>1</td>\n",
       "      <td>0</td>\n",
       "      <td>0</td>\n",
       "      <td>0</td>\n",
       "      <td>0</td>\n",
       "      <td>0</td>\n",
       "      <td>0</td>\n",
       "      <td>0</td>\n",
       "    </tr>\n",
       "  </tbody>\n",
       "</table>\n",
       "</div>"
      ],
      "text/plain": [
       "                                                    Drama  Comedy  \\\n",
       "Movie_name                                                          \n",
       "Ghosts of Mars                                          0       0   \n",
       "Getting Away with Murder: The JonBenét Ramsey M...      1       0   \n",
       "The Gangsters                                           0       1   \n",
       "Alexander's Ragtime Band                                0       1   \n",
       "Little city                                             1       1   \n",
       "\n",
       "                                                    Romance Film  \\\n",
       "Movie_name                                                         \n",
       "Ghosts of Mars                                                 0   \n",
       "Getting Away with Murder: The JonBenét Ramsey M...             0   \n",
       "The Gangsters                                                  0   \n",
       "Alexander's Ragtime Band                                       0   \n",
       "Little city                                                    1   \n",
       "\n",
       "                                                    Black-and-white  Thriller  \\\n",
       "Movie_name                                                                      \n",
       "Ghosts of Mars                                                    0         1   \n",
       "Getting Away with Murder: The JonBenét Ramsey M...                0         0   \n",
       "The Gangsters                                                     1         0   \n",
       "Alexander's Ragtime Band                                          1         0   \n",
       "Little city                                                       0         0   \n",
       "\n",
       "                                                    Action  Indie  \\\n",
       "Movie_name                                                          \n",
       "Ghosts of Mars                                           1      0   \n",
       "Getting Away with Murder: The JonBenét Ramsey M...       0      0   \n",
       "The Gangsters                                            0      1   \n",
       "Alexander's Ragtime Band                                 0      0   \n",
       "Little city                                              0      0   \n",
       "\n",
       "                                                    Crime Fiction  \\\n",
       "Movie_name                                                          \n",
       "Ghosts of Mars                                                  0   \n",
       "Getting Away with Murder: The JonBenét Ramsey M...              0   \n",
       "The Gangsters                                                   0   \n",
       "Alexander's Ragtime Band                                        0   \n",
       "Little city                                                     0   \n",
       "\n",
       "                                                    World cinema  Short Film  \n",
       "Movie_name                                                                    \n",
       "Ghosts of Mars                                                 0           0  \n",
       "Getting Away with Murder: The JonBenét Ramsey M...             0           0  \n",
       "The Gangsters                                                  0           1  \n",
       "Alexander's Ragtime Band                                       0           0  \n",
       "Little city                                                    0           0  "
      ]
     },
     "execution_count": 12,
     "metadata": {},
     "output_type": "execute_result"
    }
   ],
   "source": [
    "genres_df = pd.DataFrame(genres_matrix, columns=MLB.classes_, index=df2['Movie_name']) #convertit la mtrice en df\n",
    "df_film_genres = genres_df[genre_95.index]\n",
    "df_film_genres.head()"
   ]
  },
  {
   "cell_type": "code",
   "execution_count": 13,
   "metadata": {},
   "outputs": [
    {
     "data": {
      "image/png": "[encoded data removed]",
      "text/plain": [
       "<Figure size 640x480 with 1 Axes>"
      ]
     },
     "metadata": {},
     "output_type": "display_data"
    },
    {
     "data": {
      "text/plain": [
       "<Axes: xlabel='K', ylabel='Sum of Squared Errors'>"
      ]
     },
     "execution_count": 13,
     "metadata": {},
     "output_type": "execute_result"
    }
   ],
   "source": [
    "plot_sse(df_film_genres, start=2, end=30) #nous permet d'identifier que 10 c'est top ! "
   ]
  },
  {
   "cell_type": "code",
   "execution_count": 14,
   "metadata": {},
   "outputs": [
    {
     "data": {
      "image/png": "[encoded data removed]",
      "text/plain": [
       "<Figure size 640x480 with 1 Axes>"
      ]
     },
     "metadata": {},
     "output_type": "display_data"
    }
   ],
   "source": [
    "silhouettes = []\n",
    "# Try multiple k\n",
    "for k in range(2, 30):\n",
    "    # Cluster the data and assigne the labels\n",
    "    labels = KMeans(n_clusters=k, random_state=42).fit_predict(df_film_genres)\n",
    "    # Get the Silhouette score\n",
    "    score = silhouette_score(df_film_genres, labels)\n",
    "    silhouettes.append({\"k\": k, \"score\": score})\n",
    "    \n",
    "# Convert to dataframe\n",
    "silhouettes = pd.DataFrame(silhouettes)\n",
    "\n",
    "# Plot the data\n",
    "plt.plot(silhouettes.k, silhouettes.score)\n",
    "plt.xlabel(\"K\")\n",
    "plt.ylabel(\"Silhouette score\")\n",
    "plt.show()"
   ]
  },
  {
   "cell_type": "code",
   "execution_count": 15,
   "metadata": {},
   "outputs": [
    {
     "name": "stdout",
     "output_type": "stream",
     "text": [
      "Reduced to 11\n"
     ]
    }
   ],
   "source": [
    "kmeans = KMeans(n_clusters=15, random_state=42)\n",
    "df_film_genres['Cluster'] = kmeans.fit_predict(df_film_genres)\n",
    "print(f\"Reduced genres to {df_film_genres.shape[1]}\")"
   ]
  },
  {
   "cell_type": "code",
   "execution_count": null,
   "metadata": {},
   "outputs": [
    {
     "data": {
      "image/png": "[encoded data removed]",
      "text/plain": [
       "<Figure size 640x480 with 1 Axes>"
      ]
     },
     "metadata": {},
     "output_type": "display_data"
    }
   ],
   "source": [
    "cluster_counts = df_film_genres['Cluster'].value_counts()\n",
    "plt.bar(cluster_counts.index, cluster_counts.values)\n",
    "plt.xlabel('Cluster ID')\n",
    "plt.ylabel('Count of movies')\n",
    "plt.title('Movie distribution for each cluster')\n",
    "plt.show()"
   ]
  },
  {
   "cell_type": "code",
   "execution_count": 17,
   "metadata": {},
   "outputs": [
    {
     "data": {
      "image/png": "[encoded data removed]",
      "text/plain": [
       "<Figure size 640x480 with 1 Axes>"
      ]
     },
     "metadata": {},
     "output_type": "display_data"
    }
   ],
   "source": []
  },
  {
   "cell_type": "code",
   "execution_count": 18,
   "metadata": {},
   "outputs": [
    {
     "name": "stdout",
     "output_type": "stream",
     "text": [
      "0\n",
      "Comedy             1319\n",
      "Short Film         1273\n",
      "Black-and-white    1009\n",
      "Indie               701\n",
      "Drama                10\n",
      "dtype: int64\n",
      "1\n",
      "Drama            5265\n",
      "Thriller          487\n",
      "Crime Fiction     426\n",
      "Short Film        125\n",
      "Comedy              0\n",
      "dtype: int64\n",
      "2\n",
      "Short Film       549\n",
      "World cinema     251\n",
      "Crime Fiction    209\n",
      "Indie            167\n",
      "Drama              0\n",
      "dtype: int64\n",
      "3\n",
      "Crime Fiction    1592\n",
      "Thriller         1472\n",
      "Drama            1111\n",
      "Action            693\n",
      "World cinema      180\n",
      "dtype: int64\n",
      "4\n",
      "Drama           922\n",
      "Comedy          922\n",
      "Romance Film    922\n",
      "World cinema    222\n",
      "Indie           167\n",
      "dtype: int64\n",
      "5\n",
      "Comedy             3606\n",
      "Action              449\n",
      "Black-and-white     363\n",
      "Crime Fiction       255\n",
      "Indie               236\n",
      "dtype: int64\n",
      "6\n",
      "World cinema    1343\n",
      "Drama           1336\n",
      "Romance Film     556\n",
      "Thriller         162\n",
      "Action           114\n",
      "dtype: int64\n",
      "7\n",
      "Drama              1498\n",
      "Romance Film       1498\n",
      "Black-and-white     164\n",
      "Action              146\n",
      "Crime Fiction        98\n",
      "dtype: int64\n",
      "8\n",
      "Action             2329\n",
      "Thriller            811\n",
      "Drama               575\n",
      "World cinema        158\n",
      "Black-and-white     123\n",
      "dtype: int64\n",
      "9\n",
      "Drama              1409\n",
      "Indie              1409\n",
      "Black-and-white     408\n",
      "Comedy              282\n",
      "Short Film          219\n",
      "dtype: int64\n",
      "10\n",
      "Black-and-white    1113\n",
      "Indie               451\n",
      "Short Film          349\n",
      "Crime Fiction        63\n",
      "Romance Film         49\n",
      "dtype: int64\n",
      "11\n",
      "Drama              1093\n",
      "Black-and-white    1093\n",
      "Short Film          141\n",
      "Crime Fiction        95\n",
      "Comedy               79\n",
      "dtype: int64\n",
      "12\n",
      "Drama            997\n",
      "Comedy           997\n",
      "World cinema     163\n",
      "Action           110\n",
      "Crime Fiction     91\n",
      "dtype: int64\n",
      "13\n",
      "Romance Film       1477\n",
      "Comedy              996\n",
      "Indie               118\n",
      "Black-and-white     117\n",
      "Action               61\n",
      "dtype: int64\n",
      "14\n",
      "Thriller           952\n",
      "World cinema       115\n",
      "Indie               67\n",
      "Black-and-white     44\n",
      "Romance Film        21\n",
      "dtype: int64\n"
     ]
    }
   ],
   "source": [
    "cluster_names = {}\n",
    "\n",
    "for cluster_id in np.unique(kmeans.labels_):\n",
    "    print(cluster_id)\n",
    "    cluster_films = df_film_genres[df_film_genres['Cluster'] == cluster_id].drop(columns=['Cluster'])\n",
    "    genre_sum = cluster_films.sum()\n",
    "    top_genres = genre_sum.sort_values(ascending=False).head(5)\n",
    "    print(top_genres)\n",
    "    \n",
    "## By counting and printing how much each genres appears in each cluster, \n",
    "# we are able to name the clusters by hand. This is done below\n",
    "\n",
    "cluster_names = {\n",
    "    0: \"Comedy - Short film\",\n",
    "    1: \"Drama - Thriller\",\n",
    "    2: \"Short film - World cinema\",\n",
    "    3: \"Crime - Thriller\",\n",
    "    4: \"Drama - Comedy\",\n",
    "    5: \"Comedy - Action\",\n",
    "    6: \"Drama\",\n",
    "    7: \"Drama - Romance\",\n",
    "    8: \"Action - Thriller\",\n",
    "    9: \"Drama - Indie\",\n",
    "    10: \"B&W - Indie\",\n",
    "    11: \"Drama - B&W\",\n",
    "    12: \"Drama - Comedy\",\n",
    "    13: \"Romance - Comedy\",\n",
    "    14: \"Thriller\"\n",
    "}"
   ]
  },
  {
   "cell_type": "code",
   "execution_count": 19,
   "metadata": {},
   "outputs": [
    {
     "data": {
      "text/html": [
       "<div>\n",
       "<style scoped>\n",
       "    .dataframe tbody tr th:only-of-type {\n",
       "        vertical-align: middle;\n",
       "    }\n",
       "\n",
       "    .dataframe tbody tr th {\n",
       "        vertical-align: top;\n",
       "    }\n",
       "\n",
       "    .dataframe thead th {\n",
       "        text-align: right;\n",
       "    }\n",
       "</style>\n",
       "<table border=\"1\" class=\"dataframe\">\n",
       "  <thead>\n",
       "    <tr style=\"text-align: right;\">\n",
       "      <th></th>\n",
       "      <th>Drama</th>\n",
       "      <th>Comedy</th>\n",
       "      <th>Romance Film</th>\n",
       "      <th>Black-and-white</th>\n",
       "      <th>Thriller</th>\n",
       "      <th>Action</th>\n",
       "      <th>Indie</th>\n",
       "      <th>Crime Fiction</th>\n",
       "      <th>World cinema</th>\n",
       "      <th>Short Film</th>\n",
       "      <th>Cluster</th>\n",
       "      <th>Cluster_Name</th>\n",
       "    </tr>\n",
       "    <tr>\n",
       "      <th>Movie_name</th>\n",
       "      <th></th>\n",
       "      <th></th>\n",
       "      <th></th>\n",
       "      <th></th>\n",
       "      <th></th>\n",
       "      <th></th>\n",
       "      <th></th>\n",
       "      <th></th>\n",
       "      <th></th>\n",
       "      <th></th>\n",
       "      <th></th>\n",
       "      <th></th>\n",
       "    </tr>\n",
       "  </thead>\n",
       "  <tbody>\n",
       "    <tr>\n",
       "      <th>Ghosts of Mars</th>\n",
       "      <td>0</td>\n",
       "      <td>0</td>\n",
       "      <td>0</td>\n",
       "      <td>0</td>\n",
       "      <td>1</td>\n",
       "      <td>1</td>\n",
       "      <td>0</td>\n",
       "      <td>0</td>\n",
       "      <td>0</td>\n",
       "      <td>0</td>\n",
       "      <td>8</td>\n",
       "      <td>Action - Thriller</td>\n",
       "    </tr>\n",
       "    <tr>\n",
       "      <th>Getting Away with Murder: The JonBenét Ramsey Mystery</th>\n",
       "      <td>1</td>\n",
       "      <td>0</td>\n",
       "      <td>0</td>\n",
       "      <td>0</td>\n",
       "      <td>0</td>\n",
       "      <td>0</td>\n",
       "      <td>0</td>\n",
       "      <td>0</td>\n",
       "      <td>0</td>\n",
       "      <td>0</td>\n",
       "      <td>1</td>\n",
       "      <td>Drama - Thriller</td>\n",
       "    </tr>\n",
       "    <tr>\n",
       "      <th>The Gangsters</th>\n",
       "      <td>0</td>\n",
       "      <td>1</td>\n",
       "      <td>0</td>\n",
       "      <td>1</td>\n",
       "      <td>0</td>\n",
       "      <td>0</td>\n",
       "      <td>1</td>\n",
       "      <td>0</td>\n",
       "      <td>0</td>\n",
       "      <td>1</td>\n",
       "      <td>0</td>\n",
       "      <td>Comedy - Short film</td>\n",
       "    </tr>\n",
       "    <tr>\n",
       "      <th>Alexander's Ragtime Band</th>\n",
       "      <td>0</td>\n",
       "      <td>1</td>\n",
       "      <td>0</td>\n",
       "      <td>1</td>\n",
       "      <td>0</td>\n",
       "      <td>0</td>\n",
       "      <td>0</td>\n",
       "      <td>0</td>\n",
       "      <td>0</td>\n",
       "      <td>0</td>\n",
       "      <td>5</td>\n",
       "      <td>Comedy - Action</td>\n",
       "    </tr>\n",
       "    <tr>\n",
       "      <th>Little city</th>\n",
       "      <td>1</td>\n",
       "      <td>1</td>\n",
       "      <td>1</td>\n",
       "      <td>0</td>\n",
       "      <td>0</td>\n",
       "      <td>0</td>\n",
       "      <td>0</td>\n",
       "      <td>0</td>\n",
       "      <td>0</td>\n",
       "      <td>0</td>\n",
       "      <td>4</td>\n",
       "      <td>Drama - Comedy</td>\n",
       "    </tr>\n",
       "  </tbody>\n",
       "</table>\n",
       "</div>"
      ],
      "text/plain": [
       "                                                    Drama  Comedy  \\\n",
       "Movie_name                                                          \n",
       "Ghosts of Mars                                          0       0   \n",
       "Getting Away with Murder: The JonBenét Ramsey M...      1       0   \n",
       "The Gangsters                                           0       1   \n",
       "Alexander's Ragtime Band                                0       1   \n",
       "Little city                                             1       1   \n",
       "\n",
       "                                                    Romance Film  \\\n",
       "Movie_name                                                         \n",
       "Ghosts of Mars                                                 0   \n",
       "Getting Away with Murder: The JonBenét Ramsey M...             0   \n",
       "The Gangsters                                                  0   \n",
       "Alexander's Ragtime Band                                       0   \n",
       "Little city                                                    1   \n",
       "\n",
       "                                                    Black-and-white  Thriller  \\\n",
       "Movie_name                                                                      \n",
       "Ghosts of Mars                                                    0         1   \n",
       "Getting Away with Murder: The JonBenét Ramsey M...                0         0   \n",
       "The Gangsters                                                     1         0   \n",
       "Alexander's Ragtime Band                                          1         0   \n",
       "Little city                                                       0         0   \n",
       "\n",
       "                                                    Action  Indie  \\\n",
       "Movie_name                                                          \n",
       "Ghosts of Mars                                           1      0   \n",
       "Getting Away with Murder: The JonBenét Ramsey M...       0      0   \n",
       "The Gangsters                                            0      1   \n",
       "Alexander's Ragtime Band                                 0      0   \n",
       "Little city                                              0      0   \n",
       "\n",
       "                                                    Crime Fiction  \\\n",
       "Movie_name                                                          \n",
       "Ghosts of Mars                                                  0   \n",
       "Getting Away with Murder: The JonBenét Ramsey M...              0   \n",
       "The Gangsters                                                   0   \n",
       "Alexander's Ragtime Band                                        0   \n",
       "Little city                                                     0   \n",
       "\n",
       "                                                    World cinema  Short Film  \\\n",
       "Movie_name                                                                     \n",
       "Ghosts of Mars                                                 0           0   \n",
       "Getting Away with Murder: The JonBenét Ramsey M...             0           0   \n",
       "The Gangsters                                                  0           1   \n",
       "Alexander's Ragtime Band                                       0           0   \n",
       "Little city                                                    0           0   \n",
       "\n",
       "                                                    Cluster  \\\n",
       "Movie_name                                                    \n",
       "Ghosts of Mars                                            8   \n",
       "Getting Away with Murder: The JonBenét Ramsey M...        1   \n",
       "The Gangsters                                             0   \n",
       "Alexander's Ragtime Band                                  5   \n",
       "Little city                                               4   \n",
       "\n",
       "                                                           Cluster_Name  \n",
       "Movie_name                                                               \n",
       "Ghosts of Mars                                        Action - Thriller  \n",
       "Getting Away with Murder: The JonBenét Ramsey M...     Drama - Thriller  \n",
       "The Gangsters                                       Comedy - Short film  \n",
       "Alexander's Ragtime Band                                Comedy - Action  \n",
       "Little city                                              Drama - Comedy  "
      ]
     },
     "execution_count": 19,
     "metadata": {},
     "output_type": "execute_result"
    }
   ],
   "source": [
    "df_film_genres['Cluster_Name'] = df_film_genres['Cluster'].map(cluster_names)\n",
    "df_film_genres.head()"
   ]
  },
  {
   "cell_type": "code",
   "execution_count": 20,
   "metadata": {},
   "outputs": [
    {
     "data": {
      "text/html": [
       "<div>\n",
       "<style scoped>\n",
       "    .dataframe tbody tr th:only-of-type {\n",
       "        vertical-align: middle;\n",
       "    }\n",
       "\n",
       "    .dataframe tbody tr th {\n",
       "        vertical-align: top;\n",
       "    }\n",
       "\n",
       "    .dataframe thead th {\n",
       "        text-align: right;\n",
       "    }\n",
       "</style>\n",
       "<table border=\"1\" class=\"dataframe\">\n",
       "  <thead>\n",
       "    <tr style=\"text-align: right;\">\n",
       "      <th></th>\n",
       "      <th>Movie_name</th>\n",
       "      <th>Movie_release_date</th>\n",
       "      <th>Movie_box_office_revenue</th>\n",
       "      <th>Movie_runtime</th>\n",
       "      <th>Movie_languages</th>\n",
       "      <th>Movie_countries</th>\n",
       "      <th>Movie_genres</th>\n",
       "      <th>Actor_gender</th>\n",
       "      <th>Actor_height_m</th>\n",
       "      <th>Actor_ethnicity</th>\n",
       "      <th>Actor_name</th>\n",
       "      <th>Actor_age_at_movie_release</th>\n",
       "      <th>Main_genre</th>\n",
       "      <th>Main_country</th>\n",
       "      <th>Region</th>\n",
       "      <th>Cluster</th>\n",
       "      <th>Cluster_Name</th>\n",
       "    </tr>\n",
       "  </thead>\n",
       "  <tbody>\n",
       "    <tr>\n",
       "      <th>0</th>\n",
       "      <td>Ghosts of Mars</td>\n",
       "      <td>2001.0</td>\n",
       "      <td>14010832.0</td>\n",
       "      <td>98.0</td>\n",
       "      <td>['English']</td>\n",
       "      <td>['United States of America']</td>\n",
       "      <td>[Thriller, Science Fiction, Horror, Adventure,...</td>\n",
       "      <td>F</td>\n",
       "      <td>1.620</td>\n",
       "      <td>NaN</td>\n",
       "      <td>Wanda De Jesus</td>\n",
       "      <td>42.0</td>\n",
       "      <td>Thriller</td>\n",
       "      <td>United States of America</td>\n",
       "      <td>North America</td>\n",
       "      <td>8</td>\n",
       "      <td>Action - Thriller</td>\n",
       "    </tr>\n",
       "    <tr>\n",
       "      <th>1</th>\n",
       "      <td>Ghosts of Mars</td>\n",
       "      <td>2001.0</td>\n",
       "      <td>14010832.0</td>\n",
       "      <td>98.0</td>\n",
       "      <td>['English']</td>\n",
       "      <td>['United States of America']</td>\n",
       "      <td>[Thriller, Science Fiction, Horror, Adventure,...</td>\n",
       "      <td>F</td>\n",
       "      <td>1.780</td>\n",
       "      <td>/m/044038p</td>\n",
       "      <td>Natasha Henstridge</td>\n",
       "      <td>27.0</td>\n",
       "      <td>Thriller</td>\n",
       "      <td>United States of America</td>\n",
       "      <td>North America</td>\n",
       "      <td>8</td>\n",
       "      <td>Action - Thriller</td>\n",
       "    </tr>\n",
       "    <tr>\n",
       "      <th>2</th>\n",
       "      <td>Ghosts of Mars</td>\n",
       "      <td>2001.0</td>\n",
       "      <td>14010832.0</td>\n",
       "      <td>98.0</td>\n",
       "      <td>['English']</td>\n",
       "      <td>['United States of America']</td>\n",
       "      <td>[Thriller, Science Fiction, Horror, Adventure,...</td>\n",
       "      <td>M</td>\n",
       "      <td>1.727</td>\n",
       "      <td>/m/0x67</td>\n",
       "      <td>Ice Cube</td>\n",
       "      <td>32.0</td>\n",
       "      <td>Thriller</td>\n",
       "      <td>United States of America</td>\n",
       "      <td>North America</td>\n",
       "      <td>8</td>\n",
       "      <td>Action - Thriller</td>\n",
       "    </tr>\n",
       "    <tr>\n",
       "      <th>3</th>\n",
       "      <td>Ghosts of Mars</td>\n",
       "      <td>2001.0</td>\n",
       "      <td>14010832.0</td>\n",
       "      <td>98.0</td>\n",
       "      <td>['English']</td>\n",
       "      <td>['United States of America']</td>\n",
       "      <td>[Thriller, Science Fiction, Horror, Adventure,...</td>\n",
       "      <td>M</td>\n",
       "      <td>1.750</td>\n",
       "      <td>NaN</td>\n",
       "      <td>Jason Statham</td>\n",
       "      <td>33.0</td>\n",
       "      <td>Thriller</td>\n",
       "      <td>United States of America</td>\n",
       "      <td>North America</td>\n",
       "      <td>8</td>\n",
       "      <td>Action - Thriller</td>\n",
       "    </tr>\n",
       "    <tr>\n",
       "      <th>4</th>\n",
       "      <td>Ghosts of Mars</td>\n",
       "      <td>2001.0</td>\n",
       "      <td>14010832.0</td>\n",
       "      <td>98.0</td>\n",
       "      <td>['English']</td>\n",
       "      <td>['United States of America']</td>\n",
       "      <td>[Thriller, Science Fiction, Horror, Adventure,...</td>\n",
       "      <td>F</td>\n",
       "      <td>1.650</td>\n",
       "      <td>NaN</td>\n",
       "      <td>Clea DuVall</td>\n",
       "      <td>23.0</td>\n",
       "      <td>Thriller</td>\n",
       "      <td>United States of America</td>\n",
       "      <td>North America</td>\n",
       "      <td>8</td>\n",
       "      <td>Action - Thriller</td>\n",
       "    </tr>\n",
       "  </tbody>\n",
       "</table>\n",
       "</div>"
      ],
      "text/plain": [
       "       Movie_name  Movie_release_date  Movie_box_office_revenue  \\\n",
       "0  Ghosts of Mars              2001.0                14010832.0   \n",
       "1  Ghosts of Mars              2001.0                14010832.0   \n",
       "2  Ghosts of Mars              2001.0                14010832.0   \n",
       "3  Ghosts of Mars              2001.0                14010832.0   \n",
       "4  Ghosts of Mars              2001.0                14010832.0   \n",
       "\n",
       "   Movie_runtime Movie_languages               Movie_countries  \\\n",
       "0           98.0     ['English']  ['United States of America']   \n",
       "1           98.0     ['English']  ['United States of America']   \n",
       "2           98.0     ['English']  ['United States of America']   \n",
       "3           98.0     ['English']  ['United States of America']   \n",
       "4           98.0     ['English']  ['United States of America']   \n",
       "\n",
       "                                        Movie_genres Actor_gender  \\\n",
       "0  [Thriller, Science Fiction, Horror, Adventure,...            F   \n",
       "1  [Thriller, Science Fiction, Horror, Adventure,...            F   \n",
       "2  [Thriller, Science Fiction, Horror, Adventure,...            M   \n",
       "3  [Thriller, Science Fiction, Horror, Adventure,...            M   \n",
       "4  [Thriller, Science Fiction, Horror, Adventure,...            F   \n",
       "\n",
       "   Actor_height_m Actor_ethnicity          Actor_name  \\\n",
       "0           1.620             NaN      Wanda De Jesus   \n",
       "1           1.780      /m/044038p  Natasha Henstridge   \n",
       "2           1.727         /m/0x67            Ice Cube   \n",
       "3           1.750             NaN       Jason Statham   \n",
       "4           1.650             NaN         Clea DuVall   \n",
       "\n",
       "   Actor_age_at_movie_release Main_genre              Main_country  \\\n",
       "0                        42.0   Thriller  United States of America   \n",
       "1                        27.0   Thriller  United States of America   \n",
       "2                        32.0   Thriller  United States of America   \n",
       "3                        33.0   Thriller  United States of America   \n",
       "4                        23.0   Thriller  United States of America   \n",
       "\n",
       "          Region  Cluster       Cluster_Name  \n",
       "0  North America        8  Action - Thriller  \n",
       "1  North America        8  Action - Thriller  \n",
       "2  North America        8  Action - Thriller  \n",
       "3  North America        8  Action - Thriller  \n",
       "4  North America        8  Action - Thriller  "
      ]
     },
     "execution_count": 20,
     "metadata": {},
     "output_type": "execute_result"
    }
   ],
   "source": [
    "df = data.merge(df_film_genres[['Cluster', 'Cluster_Name']], left_on='Movie_name', right_index=True, how='left')\n",
    "\n",
    "df.head()"
   ]
  },
  {
   "cell_type": "markdown",
   "metadata": {},
   "source": [
    "## 1.3 Encode the gender, Scale the size and the box office"
   ]
  },
  {
   "cell_type": "markdown",
   "metadata": {},
   "source": [
    "### 1.3.1 Encoding the gender"
   ]
  },
  {
   "cell_type": "code",
   "execution_count": 22,
   "metadata": {},
   "outputs": [],
   "source": [
    "#Delete the rows that have a \"Unknown\" gender which is useless for our analysis\n",
    "df = df.query(\"Actor_gender != 'Unknown' \")\n",
    "\n",
    "#One-hot encoding for the label(gender)\n",
    "df[\"Actor_gender\"] = df[\"Actor_gender\"].apply(lambda x: 1 if x==\"M\" else 0)\n",
    "\n",
    "df = df.rename(columns=col2rename)"
   ]
  },
  {
   "cell_type": "markdown",
   "metadata": {},
   "source": [
    "### 1.3.2 Scaling the size"
   ]
  },
  {
   "cell_type": "code",
   "execution_count": 23,
   "metadata": {},
   "outputs": [],
   "source": [
    "#Scale the actor height: we create a ratio of size for each gender based on their mean height\n",
    "mean_height_male = 1.7429 #m\n",
    "mean_height_female = 1.57 #m\n",
    "\n",
    "df['Actor_height_scaled'] = df['Actor_height_scaled']/mean_height_male * (df[label[0]] == 1) + df['Actor_height_scaled']/mean_height_female * (df[label[0]] != 1)"
   ]
  },
  {
   "cell_type": "markdown",
   "metadata": {},
   "source": [
    "### 1.3.3 Scaling the box office"
   ]
  },
  {
   "cell_type": "code",
   "execution_count": 26,
   "metadata": {},
   "outputs": [],
   "source": [
    "#Scale the box office revenue based on the inflation\n",
    "df_CPI = pd.read_csv(\"./additional_datasets/CPI.csv\") # dataset with the CPI of the dollard for the years of interest based on the year 1984\n",
    "base = 100 # corrspond to 1984\n",
    "df_CPI['year'] = pd.to_datetime(df_CPI['observation_date'], errors='coerce').dt.year\n",
    "df = pd.merge(df, df_CPI, left_on = 'Movie_release_date', right_on= 'year', how = 'left') # associate the CPI with the movie year release\n",
    "df[\"Movie_box_office_scaled\"] = df[\"Movie_box_office_scaled\"] / df[\"CPIAUCNS\"] * base"
   ]
  },
  {
   "cell_type": "markdown",
   "metadata": {},
   "source": [
    "## 1.4 Deleting, Standardizing, Encoding and Exporting the data"
   ]
  },
  {
   "cell_type": "markdown",
   "metadata": {},
   "source": [
    "To gain some time, we export the data into 3 CSV files: \n",
    "- **`data_cleaned_countries`**: contains the box office, the date, the country and the region\n",
    "- **`data_cleaned.csv`**: \n",
    "- **`data_cleaned_standardized`**: the previous dataset, but with the standardized numerical features"
   ]
  },
  {
   "cell_type": "markdown",
   "metadata": {},
   "source": [
    "### 1.4.1 Deleting useless columns"
   ]
  },
  {
   "cell_type": "code",
   "execution_count": 27,
   "metadata": {},
   "outputs": [],
   "source": [
    "#Delete all columns that we do not care\n",
    "## For spatial analysis\n",
    "df_countries = df.drop(columns=[col for col in df.columns if col not in \n",
    "                                  [\"Movie_name\",\"Movie_release_date\",\"Movie_box_office_scaled\",\"Actor_gender_male\",\n",
    "                                   \"Main_country\", \"Region\", \"Actor_name\"]])\n",
    "\n",
    "## For the others\n",
    "df = df.drop(columns=[col for col in df.columns if col not in \n",
    "                        (numerical_features + categorical_features + label + [\"Movie_name\"] + [\"Actor_name\"])])"
   ]
  },
  {
   "cell_type": "markdown",
   "metadata": {},
   "source": [
    "### 1.4.2 One-hot encoding and standardization"
   ]
  },
  {
   "cell_type": "code",
   "execution_count": 28,
   "metadata": {},
   "outputs": [],
   "source": [
    "#One-hot encoding for the categorical features (genre, region)\n",
    "df = pd.get_dummies(df, columns=categorical_features, drop_first=True)\n",
    "\n",
    "#Standardization of the data\n",
    "df_std = df.copy()\n",
    "df_std[[col for col in df.columns if col in numerical_features]] = StandardScaler().fit_transform(\n",
    "                                                        df[[col for col in df.columns if col in numerical_features]])"
   ]
  },
  {
   "cell_type": "markdown",
   "metadata": {},
   "source": [
    "### 1.4.3 Exporting"
   ]
  },
  {
   "cell_type": "code",
   "execution_count": null,
   "metadata": {},
   "outputs": [],
   "source": [
    "df.to_csv(\"./data/data_cleaned.csv\")\n",
    "df_std.to_csv(\"./data/data_cleaned_standardized.csv\")\n",
    "df_countries.to_csv(\"./data/data_cleaned_countries.csv\")"
   ]
  },
  {
   "cell_type": "markdown",
   "metadata": {},
   "source": [
    "From now on, we will restart the data analysis from scratch, assuming that we only have the post-processing data files."
   ]
  },
  {
   "cell_type": "markdown",
   "metadata": {},
   "source": [
    "# 2. Spatial analysis"
   ]
  },
  {
   "cell_type": "code",
   "execution_count": null,
   "metadata": {},
   "outputs": [],
   "source": [
    "#Import the data\n",
    "df_countries = pd.read_csv(\"data_cleaned_countries.csv\", index_col=0)"
   ]
  },
  {
   "cell_type": "code",
   "execution_count": null,
   "metadata": {},
   "outputs": [],
   "source": []
  },
  {
   "cell_type": "markdown",
   "metadata": {},
   "source": [
    "# 3. Bias analysis"
   ]
  },
  {
   "cell_type": "code",
   "execution_count": null,
   "metadata": {},
   "outputs": [],
   "source": [
    "df = pd.read_csv(\"./data/data_cleaned.csv\", index_col=0)\n",
    "df_std = pd.read_csv(\"./data/data_cleaned_standardized.csv\", index_col=0)"
   ]
  },
  {
   "cell_type": "code",
   "execution_count": null,
   "metadata": {},
   "outputs": [],
   "source": []
  },
  {
   "cell_type": "markdown",
   "metadata": {},
   "source": [
    "# 4. Matching the data"
   ]
  },
  {
   "cell_type": "code",
   "execution_count": null,
   "metadata": {},
   "outputs": [],
   "source": []
  },
  {
   "cell_type": "markdown",
   "metadata": {},
   "source": []
  }
 ],
 "metadata": {
  "kernelspec": {
   "display_name": "ada",
   "language": "python",
   "name": "python3"
  },
  "language_info": {
   "codemirror_mode": {
    "name": "ipython",
    "version": 3
   },
   "file_extension": ".py",
   "mimetype": "text/x-python",
   "name": "python",
   "nbconvert_exporter": "python",
   "pygments_lexer": "ipython3",
   "version": "3.11.9"
  }
 },
 "nbformat": 4,
 "nbformat_minor": 2
}
