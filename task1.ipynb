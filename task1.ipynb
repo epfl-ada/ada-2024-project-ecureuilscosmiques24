{
 "cells": [
  {
   "cell_type": "code",
   "execution_count": 2,
   "metadata": {},
   "outputs": [],
   "source": [
    "import os\n",
    "import pandas as pd\n",
    "import numpy as np\n",
    "import matplotlib.pyplot as plt\n",
    "import seaborn as sns\n",
    "from helpers import *\n",
    "import plotly.express as px # for interactive plots"
   ]
  },
  {
   "cell_type": "code",
   "execution_count": 3,
   "metadata": {},
   "outputs": [],
   "source": [
    "# load the useful dataset for the task 1\n",
    "df = pd.read_csv(\"data_cleaned.csv\")"
   ]
  },
  {
   "cell_type": "code",
   "execution_count": 4,
   "metadata": {},
   "outputs": [
    {
     "data": {
      "text/html": [
       "<div>\n",
       "<style scoped>\n",
       "    .dataframe tbody tr th:only-of-type {\n",
       "        vertical-align: middle;\n",
       "    }\n",
       "\n",
       "    .dataframe tbody tr th {\n",
       "        vertical-align: top;\n",
       "    }\n",
       "\n",
       "    .dataframe thead th {\n",
       "        text-align: right;\n",
       "    }\n",
       "</style>\n",
       "<table border=\"1\" class=\"dataframe\">\n",
       "  <thead>\n",
       "    <tr style=\"text-align: right;\">\n",
       "      <th></th>\n",
       "      <th>Unnamed: 0</th>\n",
       "      <th>Movie_name</th>\n",
       "      <th>Movie_release_date</th>\n",
       "      <th>Movie_box_office_scaled</th>\n",
       "      <th>Movie_runtime</th>\n",
       "      <th>Actor_gender_male</th>\n",
       "      <th>Actor_height_scaled</th>\n",
       "      <th>Actor_age_at_movie_release</th>\n",
       "      <th>Cluster_Name_B&amp;W - Indie</th>\n",
       "      <th>Cluster_Name_Comedy - Action</th>\n",
       "      <th>...</th>\n",
       "      <th>Cluster_Name_Romance - Comedy</th>\n",
       "      <th>Cluster_Name_Short film - World cinema</th>\n",
       "      <th>Cluster_Name_Thriller</th>\n",
       "      <th>Region_Asia</th>\n",
       "      <th>Region_Dead country</th>\n",
       "      <th>Region_East Europa</th>\n",
       "      <th>Region_North America</th>\n",
       "      <th>Region_Oceania</th>\n",
       "      <th>Region_South America</th>\n",
       "      <th>Region_West Europa</th>\n",
       "    </tr>\n",
       "  </thead>\n",
       "  <tbody>\n",
       "    <tr>\n",
       "      <th>0</th>\n",
       "      <td>0</td>\n",
       "      <td>Ghosts of Mars</td>\n",
       "      <td>2001.0</td>\n",
       "      <td>7.912729e+06</td>\n",
       "      <td>98.0</td>\n",
       "      <td>0</td>\n",
       "      <td>1.031847</td>\n",
       "      <td>42.0</td>\n",
       "      <td>False</td>\n",
       "      <td>False</td>\n",
       "      <td>...</td>\n",
       "      <td>False</td>\n",
       "      <td>False</td>\n",
       "      <td>False</td>\n",
       "      <td>False</td>\n",
       "      <td>False</td>\n",
       "      <td>False</td>\n",
       "      <td>True</td>\n",
       "      <td>False</td>\n",
       "      <td>False</td>\n",
       "      <td>False</td>\n",
       "    </tr>\n",
       "    <tr>\n",
       "      <th>1</th>\n",
       "      <td>1</td>\n",
       "      <td>Ghosts of Mars</td>\n",
       "      <td>2001.0</td>\n",
       "      <td>7.912729e+06</td>\n",
       "      <td>98.0</td>\n",
       "      <td>0</td>\n",
       "      <td>1.133758</td>\n",
       "      <td>27.0</td>\n",
       "      <td>False</td>\n",
       "      <td>False</td>\n",
       "      <td>...</td>\n",
       "      <td>False</td>\n",
       "      <td>False</td>\n",
       "      <td>False</td>\n",
       "      <td>False</td>\n",
       "      <td>False</td>\n",
       "      <td>False</td>\n",
       "      <td>True</td>\n",
       "      <td>False</td>\n",
       "      <td>False</td>\n",
       "      <td>False</td>\n",
       "    </tr>\n",
       "    <tr>\n",
       "      <th>2</th>\n",
       "      <td>2</td>\n",
       "      <td>Ghosts of Mars</td>\n",
       "      <td>2001.0</td>\n",
       "      <td>7.912729e+06</td>\n",
       "      <td>98.0</td>\n",
       "      <td>1</td>\n",
       "      <td>0.990877</td>\n",
       "      <td>32.0</td>\n",
       "      <td>False</td>\n",
       "      <td>False</td>\n",
       "      <td>...</td>\n",
       "      <td>False</td>\n",
       "      <td>False</td>\n",
       "      <td>False</td>\n",
       "      <td>False</td>\n",
       "      <td>False</td>\n",
       "      <td>False</td>\n",
       "      <td>True</td>\n",
       "      <td>False</td>\n",
       "      <td>False</td>\n",
       "      <td>False</td>\n",
       "    </tr>\n",
       "    <tr>\n",
       "      <th>3</th>\n",
       "      <td>3</td>\n",
       "      <td>Ghosts of Mars</td>\n",
       "      <td>2001.0</td>\n",
       "      <td>7.912729e+06</td>\n",
       "      <td>98.0</td>\n",
       "      <td>1</td>\n",
       "      <td>1.004074</td>\n",
       "      <td>33.0</td>\n",
       "      <td>False</td>\n",
       "      <td>False</td>\n",
       "      <td>...</td>\n",
       "      <td>False</td>\n",
       "      <td>False</td>\n",
       "      <td>False</td>\n",
       "      <td>False</td>\n",
       "      <td>False</td>\n",
       "      <td>False</td>\n",
       "      <td>True</td>\n",
       "      <td>False</td>\n",
       "      <td>False</td>\n",
       "      <td>False</td>\n",
       "    </tr>\n",
       "    <tr>\n",
       "      <th>4</th>\n",
       "      <td>4</td>\n",
       "      <td>Ghosts of Mars</td>\n",
       "      <td>2001.0</td>\n",
       "      <td>7.912729e+06</td>\n",
       "      <td>98.0</td>\n",
       "      <td>0</td>\n",
       "      <td>1.050955</td>\n",
       "      <td>23.0</td>\n",
       "      <td>False</td>\n",
       "      <td>False</td>\n",
       "      <td>...</td>\n",
       "      <td>False</td>\n",
       "      <td>False</td>\n",
       "      <td>False</td>\n",
       "      <td>False</td>\n",
       "      <td>False</td>\n",
       "      <td>False</td>\n",
       "      <td>True</td>\n",
       "      <td>False</td>\n",
       "      <td>False</td>\n",
       "      <td>False</td>\n",
       "    </tr>\n",
       "  </tbody>\n",
       "</table>\n",
       "<p>5 rows × 28 columns</p>\n",
       "</div>"
      ],
      "text/plain": [
       "   Unnamed: 0      Movie_name  Movie_release_date  Movie_box_office_scaled  \\\n",
       "0           0  Ghosts of Mars              2001.0             7.912729e+06   \n",
       "1           1  Ghosts of Mars              2001.0             7.912729e+06   \n",
       "2           2  Ghosts of Mars              2001.0             7.912729e+06   \n",
       "3           3  Ghosts of Mars              2001.0             7.912729e+06   \n",
       "4           4  Ghosts of Mars              2001.0             7.912729e+06   \n",
       "\n",
       "   Movie_runtime  Actor_gender_male  Actor_height_scaled  \\\n",
       "0           98.0                  0             1.031847   \n",
       "1           98.0                  0             1.133758   \n",
       "2           98.0                  1             0.990877   \n",
       "3           98.0                  1             1.004074   \n",
       "4           98.0                  0             1.050955   \n",
       "\n",
       "   Actor_age_at_movie_release  Cluster_Name_B&W - Indie  \\\n",
       "0                        42.0                     False   \n",
       "1                        27.0                     False   \n",
       "2                        32.0                     False   \n",
       "3                        33.0                     False   \n",
       "4                        23.0                     False   \n",
       "\n",
       "   Cluster_Name_Comedy - Action  ...  Cluster_Name_Romance - Comedy  \\\n",
       "0                         False  ...                          False   \n",
       "1                         False  ...                          False   \n",
       "2                         False  ...                          False   \n",
       "3                         False  ...                          False   \n",
       "4                         False  ...                          False   \n",
       "\n",
       "   Cluster_Name_Short film - World cinema  Cluster_Name_Thriller  Region_Asia  \\\n",
       "0                                   False                  False        False   \n",
       "1                                   False                  False        False   \n",
       "2                                   False                  False        False   \n",
       "3                                   False                  False        False   \n",
       "4                                   False                  False        False   \n",
       "\n",
       "   Region_Dead country  Region_East Europa  Region_North America  \\\n",
       "0                False               False                  True   \n",
       "1                False               False                  True   \n",
       "2                False               False                  True   \n",
       "3                False               False                  True   \n",
       "4                False               False                  True   \n",
       "\n",
       "   Region_Oceania  Region_South America  Region_West Europa  \n",
       "0           False                 False               False  \n",
       "1           False                 False               False  \n",
       "2           False                 False               False  \n",
       "3           False                 False               False  \n",
       "4           False                 False               False  \n",
       "\n",
       "[5 rows x 28 columns]"
      ]
     },
     "execution_count": 4,
     "metadata": {},
     "output_type": "execute_result"
    }
   ],
   "source": [
    "df.head()"
   ]
  },
  {
   "cell_type": "code",
   "execution_count": 18,
   "metadata": {},
   "outputs": [
    {
     "data": {
      "application/vnd.plotly.v1+json": {
       "config": {
        "plotlyServerURL": "https://plot.ly"
       },
       "data": [
        {
         "fillpattern": {
          "shape": ""
         },
         "hovertemplate": "gender=female_proportion<br>Year=%{x}<br>Proportion=%{y}<extra></extra>",
         "legendgroup": "female_proportion",
         "line": {
          "color": "pink"
         },
         "marker": {
          "symbol": "circle"
         },
         "mode": "lines",
         "name": "female_proportion",
         "orientation": "v",
         "showlegend": true,
         "stackgroup": "1",
         "type": "scatter",
         "x": [
          1894,
          1896,
          1900,
          1902,
          1903,
          1904,
          1905,
          1906,
          1907,
          1908,
          1909,
          1910,
          1911,
          1912,
          1913,
          1914,
          1915,
          1916,
          1917,
          1918,
          1919,
          1920,
          1921,
          1922,
          1923,
          1924,
          1925,
          1926,
          1927,
          1928,
          1929,
          1930,
          1931,
          1932,
          1933,
          1934,
          1935,
          1936,
          1937,
          1938,
          1939,
          1940,
          1941,
          1942,
          1943,
          1944,
          1945,
          1946,
          1947,
          1948,
          1949,
          1950,
          1951,
          1952,
          1953,
          1954,
          1955,
          1956,
          1957,
          1958,
          1959,
          1960,
          1961,
          1962,
          1963,
          1964,
          1965,
          1966,
          1967,
          1968,
          1969,
          1970,
          1971,
          1972,
          1973,
          1974,
          1975,
          1976,
          1977,
          1978,
          1979,
          1980,
          1981,
          1982,
          1983,
          1984,
          1985,
          1986,
          1987,
          1988,
          1989,
          1990,
          1991,
          1992,
          1993,
          1994,
          1995,
          1996,
          1997,
          1998,
          1999,
          2000,
          2001,
          2002,
          2003,
          2004,
          2005,
          2006,
          2007,
          2008,
          2009,
          2010,
          2011,
          2012,
          2013,
          2014,
          2016
         ],
         "xaxis": "x",
         "y": [
          0,
          0.5,
          0.3333333333333333,
          0.5,
          0,
          0,
          0,
          0.25,
          0.25,
          0.4,
          0.46296296296296297,
          0.4146341463414634,
          0.4051724137931034,
          0.45893719806763283,
          0.3588621444201313,
          0.3565525383707202,
          0.36694677871148457,
          0.3615916955017301,
          0.3160270880361174,
          0.3719806763285024,
          0.3130841121495327,
          0.316622691292876,
          0.313953488372093,
          0.3231850117096019,
          0.2837022132796781,
          0.39429928741092635,
          0.39705882352941174,
          0.3326271186440678,
          0.2956810631229236,
          0.34843205574912894,
          0.3202846975088968,
          0.3278048780487805,
          0.3548387096774194,
          0.32613168724279834,
          0.3504761904761905,
          0.3333333333333333,
          0.2981316003249391,
          0.28368794326241137,
          0.29829290206648695,
          0.28174235403151066,
          0.26967213114754096,
          0.2552891396332863,
          0.28800755429650615,
          0.24319868095630667,
          0.27941176470588236,
          0.29604628736740596,
          0.30665380906460943,
          0.3198818897637795,
          0.3176930596285435,
          0.30238726790450926,
          0.30913748932536295,
          0.32117367168913563,
          0.32247284878863824,
          0.3197056418642682,
          0.2706821480406386,
          0.30205761316872426,
          0.2932270916334661,
          0.3014967925873129,
          0.31402439024390244,
          0.30822510822510824,
          0.30390334572490707,
          0.29170305676855895,
          0.28811973807296537,
          0.2991840435176791,
          0.3273113708820404,
          0.2865697177074423,
          0.26953467954345917,
          0.284,
          0.29923273657289,
          0.2504288164665523,
          0.2812755519215045,
          0.30903065451532724,
          0.2838660578386606,
          0.2860615883306321,
          0.2977743668457406,
          0.2742735648476258,
          0.28380782918149466,
          0.3061986557132188,
          0.29892141756548535,
          0.3150308853809197,
          0.2949685534591195,
          0.30445859872611464,
          0.29634073185362925,
          0.309760374050263,
          0.315820198482195,
          0.33534439416792355,
          0.3137542829172785,
          0.316543438077634,
          0.30083811204234673,
          0.31057268722466963,
          0.30432780847145485,
          0.3146677810279983,
          0.32278217409412746,
          0.3165210484511517,
          0.3384892086330935,
          0.3268370607028754,
          0.33431758530183725,
          0.33323903818953327,
          0.34310298467329925,
          0.3516330785267547,
          0.3557377049180328,
          0.36947054778821914,
          0.34538398692810457,
          0.34541293152775127,
          0.34980988593155893,
          0.35914644639476856,
          0.36175671596740117,
          0.36220261962042233,
          0.3628571428571429,
          0.3632542372881356,
          0.3660984327742645,
          0.35047812228339614,
          0.35919860073143584,
          0.3482857142857143,
          0.29219600725952816,
          0.35714285714285715,
          0.3333333333333333
         ],
         "yaxis": "y"
        },
        {
         "fillpattern": {
          "shape": ""
         },
         "hovertemplate": "gender=male_proportion<br>Year=%{x}<br>Proportion=%{y}<extra></extra>",
         "legendgroup": "male_proportion",
         "line": {
          "color": "cyan"
         },
         "marker": {
          "symbol": "circle"
         },
         "mode": "lines",
         "name": "male_proportion",
         "orientation": "v",
         "showlegend": true,
         "stackgroup": "1",
         "type": "scatter",
         "x": [
          1894,
          1896,
          1900,
          1902,
          1903,
          1904,
          1905,
          1906,
          1907,
          1908,
          1909,
          1910,
          1911,
          1912,
          1913,
          1914,
          1915,
          1916,
          1917,
          1918,
          1919,
          1920,
          1921,
          1922,
          1923,
          1924,
          1925,
          1926,
          1927,
          1928,
          1929,
          1930,
          1931,
          1932,
          1933,
          1934,
          1935,
          1936,
          1937,
          1938,
          1939,
          1940,
          1941,
          1942,
          1943,
          1944,
          1945,
          1946,
          1947,
          1948,
          1949,
          1950,
          1951,
          1952,
          1953,
          1954,
          1955,
          1956,
          1957,
          1958,
          1959,
          1960,
          1961,
          1962,
          1963,
          1964,
          1965,
          1966,
          1967,
          1968,
          1969,
          1970,
          1971,
          1972,
          1973,
          1974,
          1975,
          1976,
          1977,
          1978,
          1979,
          1980,
          1981,
          1982,
          1983,
          1984,
          1985,
          1986,
          1987,
          1988,
          1989,
          1990,
          1991,
          1992,
          1993,
          1994,
          1995,
          1996,
          1997,
          1998,
          1999,
          2000,
          2001,
          2002,
          2003,
          2004,
          2005,
          2006,
          2007,
          2008,
          2009,
          2010,
          2011,
          2012,
          2013,
          2014,
          2016
         ],
         "xaxis": "x",
         "y": [
          1,
          0.5,
          0.6666666666666666,
          0.5,
          1,
          1,
          1,
          0.75,
          0.75,
          0.6,
          0.5370370370370371,
          0.5853658536585366,
          0.5948275862068966,
          0.5410628019323671,
          0.6411378555798687,
          0.6434474616292798,
          0.6330532212885154,
          0.6384083044982699,
          0.6839729119638827,
          0.6280193236714976,
          0.6869158878504673,
          0.683377308707124,
          0.686046511627907,
          0.6768149882903981,
          0.716297786720322,
          0.6057007125890737,
          0.6029411764705882,
          0.6673728813559322,
          0.7043189368770764,
          0.6515679442508711,
          0.6797153024911032,
          0.6721951219512196,
          0.6451612903225806,
          0.6738683127572016,
          0.6495238095238095,
          0.6666666666666666,
          0.7018683996750609,
          0.7163120567375887,
          0.701707097933513,
          0.7182576459684893,
          0.730327868852459,
          0.7447108603667136,
          0.7119924457034938,
          0.7568013190436933,
          0.7205882352941176,
          0.703953712632594,
          0.6933461909353905,
          0.6801181102362205,
          0.6823069403714564,
          0.6976127320954907,
          0.6908625106746371,
          0.6788263283108644,
          0.6775271512113618,
          0.6802943581357318,
          0.7293178519593614,
          0.6979423868312757,
          0.7067729083665338,
          0.6985032074126871,
          0.6859756097560976,
          0.6917748917748918,
          0.6960966542750929,
          0.7082969432314411,
          0.7118802619270346,
          0.700815956482321,
          0.6726886291179596,
          0.7134302822925578,
          0.7304653204565408,
          0.716,
          0.7007672634271099,
          0.7495711835334476,
          0.7187244480784954,
          0.6909693454846727,
          0.7161339421613394,
          0.7139384116693679,
          0.7022256331542595,
          0.7257264351523742,
          0.7161921708185054,
          0.6938013442867812,
          0.7010785824345146,
          0.6849691146190803,
          0.7050314465408805,
          0.6955414012738853,
          0.7036592681463707,
          0.690239625949737,
          0.684179801517805,
          0.6646556058320764,
          0.6862457170827215,
          0.683456561922366,
          0.6991618879576533,
          0.6894273127753304,
          0.6956721915285451,
          0.6853322189720017,
          0.6772178259058725,
          0.6834789515488483,
          0.6615107913669065,
          0.6731629392971246,
          0.6656824146981627,
          0.6667609618104667,
          0.6568970153267008,
          0.6483669214732453,
          0.6442622950819672,
          0.6305294522117809,
          0.6546160130718954,
          0.6545870684722487,
          0.6501901140684411,
          0.6408535536052314,
          0.6382432840325989,
          0.6377973803795777,
          0.6371428571428571,
          0.6367457627118644,
          0.6339015672257355,
          0.6495218777166039,
          0.6408013992685642,
          0.6517142857142857,
          0.7078039927404719,
          0.6428571428571429,
          0.6666666666666666
         ],
         "yaxis": "y"
        }
       ],
       "layout": {
        "legend": {
         "orientation": "h",
         "title": {
          "text": "Gender"
         },
         "tracegroupgap": 0,
         "x": 1,
         "xanchor": "right",
         "y": 1.02,
         "yanchor": "bottom"
        },
        "template": {
         "data": {
          "bar": [
           {
            "error_x": {
             "color": "#2a3f5f"
            },
            "error_y": {
             "color": "#2a3f5f"
            },
            "marker": {
             "line": {
              "color": "white",
              "width": 0.5
             },
             "pattern": {
              "fillmode": "overlay",
              "size": 10,
              "solidity": 0.2
             }
            },
            "type": "bar"
           }
          ],
          "barpolar": [
           {
            "marker": {
             "line": {
              "color": "white",
              "width": 0.5
             },
             "pattern": {
              "fillmode": "overlay",
              "size": 10,
              "solidity": 0.2
             }
            },
            "type": "barpolar"
           }
          ],
          "carpet": [
           {
            "aaxis": {
             "endlinecolor": "#2a3f5f",
             "gridcolor": "#C8D4E3",
             "linecolor": "#C8D4E3",
             "minorgridcolor": "#C8D4E3",
             "startlinecolor": "#2a3f5f"
            },
            "baxis": {
             "endlinecolor": "#2a3f5f",
             "gridcolor": "#C8D4E3",
             "linecolor": "#C8D4E3",
             "minorgridcolor": "#C8D4E3",
             "startlinecolor": "#2a3f5f"
            },
            "type": "carpet"
           }
          ],
          "choropleth": [
           {
            "colorbar": {
             "outlinewidth": 0,
             "ticks": ""
            },
            "type": "choropleth"
           }
          ],
          "contour": [
           {
            "colorbar": {
             "outlinewidth": 0,
             "ticks": ""
            },
            "colorscale": [
             [
              0,
              "#0d0887"
             ],
             [
              0.1111111111111111,
              "#46039f"
             ],
             [
              0.2222222222222222,
              "#7201a8"
             ],
             [
              0.3333333333333333,
              "#9c179e"
             ],
             [
              0.4444444444444444,
              "#bd3786"
             ],
             [
              0.5555555555555556,
              "#d8576b"
             ],
             [
              0.6666666666666666,
              "#ed7953"
             ],
             [
              0.7777777777777778,
              "#fb9f3a"
             ],
             [
              0.8888888888888888,
              "#fdca26"
             ],
             [
              1,
              "#f0f921"
             ]
            ],
            "type": "contour"
           }
          ],
          "contourcarpet": [
           {
            "colorbar": {
             "outlinewidth": 0,
             "ticks": ""
            },
            "type": "contourcarpet"
           }
          ],
          "heatmap": [
           {
            "colorbar": {
             "outlinewidth": 0,
             "ticks": ""
            },
            "colorscale": [
             [
              0,
              "#0d0887"
             ],
             [
              0.1111111111111111,
              "#46039f"
             ],
             [
              0.2222222222222222,
              "#7201a8"
             ],
             [
              0.3333333333333333,
              "#9c179e"
             ],
             [
              0.4444444444444444,
              "#bd3786"
             ],
             [
              0.5555555555555556,
              "#d8576b"
             ],
             [
              0.6666666666666666,
              "#ed7953"
             ],
             [
              0.7777777777777778,
              "#fb9f3a"
             ],
             [
              0.8888888888888888,
              "#fdca26"
             ],
             [
              1,
              "#f0f921"
             ]
            ],
            "type": "heatmap"
           }
          ],
          "heatmapgl": [
           {
            "colorbar": {
             "outlinewidth": 0,
             "ticks": ""
            },
            "colorscale": [
             [
              0,
              "#0d0887"
             ],
             [
              0.1111111111111111,
              "#46039f"
             ],
             [
              0.2222222222222222,
              "#7201a8"
             ],
             [
              0.3333333333333333,
              "#9c179e"
             ],
             [
              0.4444444444444444,
              "#bd3786"
             ],
             [
              0.5555555555555556,
              "#d8576b"
             ],
             [
              0.6666666666666666,
              "#ed7953"
             ],
             [
              0.7777777777777778,
              "#fb9f3a"
             ],
             [
              0.8888888888888888,
              "#fdca26"
             ],
             [
              1,
              "#f0f921"
             ]
            ],
            "type": "heatmapgl"
           }
          ],
          "histogram": [
           {
            "marker": {
             "pattern": {
              "fillmode": "overlay",
              "size": 10,
              "solidity": 0.2
             }
            },
            "type": "histogram"
           }
          ],
          "histogram2d": [
           {
            "colorbar": {
             "outlinewidth": 0,
             "ticks": ""
            },
            "colorscale": [
             [
              0,
              "#0d0887"
             ],
             [
              0.1111111111111111,
              "#46039f"
             ],
             [
              0.2222222222222222,
              "#7201a8"
             ],
             [
              0.3333333333333333,
              "#9c179e"
             ],
             [
              0.4444444444444444,
              "#bd3786"
             ],
             [
              0.5555555555555556,
              "#d8576b"
             ],
             [
              0.6666666666666666,
              "#ed7953"
             ],
             [
              0.7777777777777778,
              "#fb9f3a"
             ],
             [
              0.8888888888888888,
              "#fdca26"
             ],
             [
              1,
              "#f0f921"
             ]
            ],
            "type": "histogram2d"
           }
          ],
          "histogram2dcontour": [
           {
            "colorbar": {
             "outlinewidth": 0,
             "ticks": ""
            },
            "colorscale": [
             [
              0,
              "#0d0887"
             ],
             [
              0.1111111111111111,
              "#46039f"
             ],
             [
              0.2222222222222222,
              "#7201a8"
             ],
             [
              0.3333333333333333,
              "#9c179e"
             ],
             [
              0.4444444444444444,
              "#bd3786"
             ],
             [
              0.5555555555555556,
              "#d8576b"
             ],
             [
              0.6666666666666666,
              "#ed7953"
             ],
             [
              0.7777777777777778,
              "#fb9f3a"
             ],
             [
              0.8888888888888888,
              "#fdca26"
             ],
             [
              1,
              "#f0f921"
             ]
            ],
            "type": "histogram2dcontour"
           }
          ],
          "mesh3d": [
           {
            "colorbar": {
             "outlinewidth": 0,
             "ticks": ""
            },
            "type": "mesh3d"
           }
          ],
          "parcoords": [
           {
            "line": {
             "colorbar": {
              "outlinewidth": 0,
              "ticks": ""
             }
            },
            "type": "parcoords"
           }
          ],
          "pie": [
           {
            "automargin": true,
            "type": "pie"
           }
          ],
          "scatter": [
           {
            "fillpattern": {
             "fillmode": "overlay",
             "size": 10,
             "solidity": 0.2
            },
            "type": "scatter"
           }
          ],
          "scatter3d": [
           {
            "line": {
             "colorbar": {
              "outlinewidth": 0,
              "ticks": ""
             }
            },
            "marker": {
             "colorbar": {
              "outlinewidth": 0,
              "ticks": ""
             }
            },
            "type": "scatter3d"
           }
          ],
          "scattercarpet": [
           {
            "marker": {
             "colorbar": {
              "outlinewidth": 0,
              "ticks": ""
             }
            },
            "type": "scattercarpet"
           }
          ],
          "scattergeo": [
           {
            "marker": {
             "colorbar": {
              "outlinewidth": 0,
              "ticks": ""
             }
            },
            "type": "scattergeo"
           }
          ],
          "scattergl": [
           {
            "marker": {
             "colorbar": {
              "outlinewidth": 0,
              "ticks": ""
             }
            },
            "type": "scattergl"
           }
          ],
          "scattermapbox": [
           {
            "marker": {
             "colorbar": {
              "outlinewidth": 0,
              "ticks": ""
             }
            },
            "type": "scattermapbox"
           }
          ],
          "scatterpolar": [
           {
            "marker": {
             "colorbar": {
              "outlinewidth": 0,
              "ticks": ""
             }
            },
            "type": "scatterpolar"
           }
          ],
          "scatterpolargl": [
           {
            "marker": {
             "colorbar": {
              "outlinewidth": 0,
              "ticks": ""
             }
            },
            "type": "scatterpolargl"
           }
          ],
          "scatterternary": [
           {
            "marker": {
             "colorbar": {
              "outlinewidth": 0,
              "ticks": ""
             }
            },
            "type": "scatterternary"
           }
          ],
          "surface": [
           {
            "colorbar": {
             "outlinewidth": 0,
             "ticks": ""
            },
            "colorscale": [
             [
              0,
              "#0d0887"
             ],
             [
              0.1111111111111111,
              "#46039f"
             ],
             [
              0.2222222222222222,
              "#7201a8"
             ],
             [
              0.3333333333333333,
              "#9c179e"
             ],
             [
              0.4444444444444444,
              "#bd3786"
             ],
             [
              0.5555555555555556,
              "#d8576b"
             ],
             [
              0.6666666666666666,
              "#ed7953"
             ],
             [
              0.7777777777777778,
              "#fb9f3a"
             ],
             [
              0.8888888888888888,
              "#fdca26"
             ],
             [
              1,
              "#f0f921"
             ]
            ],
            "type": "surface"
           }
          ],
          "table": [
           {
            "cells": {
             "fill": {
              "color": "#EBF0F8"
             },
             "line": {
              "color": "white"
             }
            },
            "header": {
             "fill": {
              "color": "#C8D4E3"
             },
             "line": {
              "color": "white"
             }
            },
            "type": "table"
           }
          ]
         },
         "layout": {
          "annotationdefaults": {
           "arrowcolor": "#2a3f5f",
           "arrowhead": 0,
           "arrowwidth": 1
          },
          "autotypenumbers": "strict",
          "coloraxis": {
           "colorbar": {
            "outlinewidth": 0,
            "ticks": ""
           }
          },
          "colorscale": {
           "diverging": [
            [
             0,
             "#8e0152"
            ],
            [
             0.1,
             "#c51b7d"
            ],
            [
             0.2,
             "#de77ae"
            ],
            [
             0.3,
             "#f1b6da"
            ],
            [
             0.4,
             "#fde0ef"
            ],
            [
             0.5,
             "#f7f7f7"
            ],
            [
             0.6,
             "#e6f5d0"
            ],
            [
             0.7,
             "#b8e186"
            ],
            [
             0.8,
             "#7fbc41"
            ],
            [
             0.9,
             "#4d9221"
            ],
            [
             1,
             "#276419"
            ]
           ],
           "sequential": [
            [
             0,
             "#0d0887"
            ],
            [
             0.1111111111111111,
             "#46039f"
            ],
            [
             0.2222222222222222,
             "#7201a8"
            ],
            [
             0.3333333333333333,
             "#9c179e"
            ],
            [
             0.4444444444444444,
             "#bd3786"
            ],
            [
             0.5555555555555556,
             "#d8576b"
            ],
            [
             0.6666666666666666,
             "#ed7953"
            ],
            [
             0.7777777777777778,
             "#fb9f3a"
            ],
            [
             0.8888888888888888,
             "#fdca26"
            ],
            [
             1,
             "#f0f921"
            ]
           ],
           "sequentialminus": [
            [
             0,
             "#0d0887"
            ],
            [
             0.1111111111111111,
             "#46039f"
            ],
            [
             0.2222222222222222,
             "#7201a8"
            ],
            [
             0.3333333333333333,
             "#9c179e"
            ],
            [
             0.4444444444444444,
             "#bd3786"
            ],
            [
             0.5555555555555556,
             "#d8576b"
            ],
            [
             0.6666666666666666,
             "#ed7953"
            ],
            [
             0.7777777777777778,
             "#fb9f3a"
            ],
            [
             0.8888888888888888,
             "#fdca26"
            ],
            [
             1,
             "#f0f921"
            ]
           ]
          },
          "colorway": [
           "#636efa",
           "#EF553B",
           "#00cc96",
           "#ab63fa",
           "#FFA15A",
           "#19d3f3",
           "#FF6692",
           "#B6E880",
           "#FF97FF",
           "#FECB52"
          ],
          "font": {
           "color": "#2a3f5f"
          },
          "geo": {
           "bgcolor": "white",
           "lakecolor": "white",
           "landcolor": "white",
           "showlakes": true,
           "showland": true,
           "subunitcolor": "#C8D4E3"
          },
          "hoverlabel": {
           "align": "left"
          },
          "hovermode": "closest",
          "mapbox": {
           "style": "light"
          },
          "paper_bgcolor": "white",
          "plot_bgcolor": "white",
          "polar": {
           "angularaxis": {
            "gridcolor": "#EBF0F8",
            "linecolor": "#EBF0F8",
            "ticks": ""
           },
           "bgcolor": "white",
           "radialaxis": {
            "gridcolor": "#EBF0F8",
            "linecolor": "#EBF0F8",
            "ticks": ""
           }
          },
          "scene": {
           "xaxis": {
            "backgroundcolor": "white",
            "gridcolor": "#DFE8F3",
            "gridwidth": 2,
            "linecolor": "#EBF0F8",
            "showbackground": true,
            "ticks": "",
            "zerolinecolor": "#EBF0F8"
           },
           "yaxis": {
            "backgroundcolor": "white",
            "gridcolor": "#DFE8F3",
            "gridwidth": 2,
            "linecolor": "#EBF0F8",
            "showbackground": true,
            "ticks": "",
            "zerolinecolor": "#EBF0F8"
           },
           "zaxis": {
            "backgroundcolor": "white",
            "gridcolor": "#DFE8F3",
            "gridwidth": 2,
            "linecolor": "#EBF0F8",
            "showbackground": true,
            "ticks": "",
            "zerolinecolor": "#EBF0F8"
           }
          },
          "shapedefaults": {
           "line": {
            "color": "#2a3f5f"
           }
          },
          "ternary": {
           "aaxis": {
            "gridcolor": "#DFE8F3",
            "linecolor": "#A2B1C6",
            "ticks": ""
           },
           "baxis": {
            "gridcolor": "#DFE8F3",
            "linecolor": "#A2B1C6",
            "ticks": ""
           },
           "bgcolor": "white",
           "caxis": {
            "gridcolor": "#DFE8F3",
            "linecolor": "#A2B1C6",
            "ticks": ""
           }
          },
          "title": {
           "x": 0.05
          },
          "xaxis": {
           "automargin": true,
           "gridcolor": "#EBF0F8",
           "linecolor": "#EBF0F8",
           "ticks": "",
           "title": {
            "standoff": 15
           },
           "zerolinecolor": "#EBF0F8",
           "zerolinewidth": 2
          },
          "yaxis": {
           "automargin": true,
           "gridcolor": "#EBF0F8",
           "linecolor": "#EBF0F8",
           "ticks": "",
           "title": {
            "standoff": 15
           },
           "zerolinecolor": "#EBF0F8",
           "zerolinewidth": 2
          }
         }
        },
        "title": {
         "text": "Average Proportion of Male and Female Actors Per Film Over Time"
        },
        "xaxis": {
         "anchor": "y",
         "domain": [
          0,
          1
         ],
         "range": [
          1920,
          2016
         ],
         "title": {
          "text": "Year"
         }
        },
        "yaxis": {
         "anchor": "x",
         "domain": [
          0,
          1
         ],
         "title": {
          "text": "Proportion"
         }
        }
       }
      }
     },
     "metadata": {},
     "output_type": "display_data"
    }
   ],
   "source": [
    "# groupby year and do average male and female proportions\n",
    "df['Actor_gender_female'] = 1 - df['Actor_gender_male'] \n",
    "avg_gender_by_year = df.groupby('Movie_release_date').agg(male_proportion=('Actor_gender_male', 'mean'),female_proportion=('Actor_gender_female', 'mean')).reset_index()\n",
    "\n",
    "# format for Plotly\n",
    "gender_long_df = avg_gender_by_year.melt(\n",
    "    id_vars='Movie_release_date',\n",
    "    value_vars=['female_proportion', 'male_proportion'],\n",
    "    var_name='gender',\n",
    "    value_name='proportion'\n",
    ")\n",
    "color_map = {'male_proportion': 'cyan', 'female_proportion': 'pink'}\n",
    "\n",
    "#plot interactive line\n",
    "fig = px.area(\n",
    "    gender_long_df,\n",
    "    x='Movie_release_date',\n",
    "    y='proportion',\n",
    "    color='gender',\n",
    "    labels={'Movie_release_date': 'Year', 'proportion': 'Proportion'},\n",
    "    title='Average Proportion of Male and Female Actors Per Film Over Time',\n",
    "    template='plotly_white',\n",
    "    color_discrete_map=color_map \n",
    "\n",
    ")\n",
    "\n",
    "# make  title etc\n",
    "fig.update_layout(\n",
    "    xaxis_title='Year',\n",
    "    yaxis_title='Proportion',\n",
    "    legend_title='Gender',\n",
    "    xaxis=dict(range=[1920, gender_long_df['Movie_release_date'].max()]),  # Skip first years as we have few films\n",
    "    legend=dict(\n",
    "        orientation=\"h\",\n",
    "        yanchor=\"bottom\",\n",
    "        y=1.02,\n",
    "        xanchor=\"right\",\n",
    "        x=1\n",
    "    ),\n",
    ")\n",
    "\n",
    "fig.show()\n"
   ]
  },
  {
   "cell_type": "code",
   "execution_count": 20,
   "metadata": {},
   "outputs": [],
   "source": [
    "import plotly.io as pio\n",
    "\n",
    "# Alternatively, use the figure's built-in method\n",
    "fig.write_html('gender_proportion_plot.html')"
   ]
  },
  {
   "cell_type": "code",
   "execution_count": null,
   "metadata": {},
   "outputs": [],
   "source": []
  }
 ],
 "metadata": {
  "kernelspec": {
   "display_name": "ada",
   "language": "python",
   "name": "python3"
  },
  "language_info": {
   "codemirror_mode": {
    "name": "ipython",
    "version": 3
   },
   "file_extension": ".py",
   "mimetype": "text/x-python",
   "name": "python",
   "nbconvert_exporter": "python",
   "pygments_lexer": "ipython3",
   "version": "3.11.9"
  }
 },
 "nbformat": 4,
 "nbformat_minor": 2
}
