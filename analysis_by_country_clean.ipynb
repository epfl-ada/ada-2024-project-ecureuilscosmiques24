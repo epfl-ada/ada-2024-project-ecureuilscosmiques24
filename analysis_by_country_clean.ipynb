{
 "cells": [
  {
   "cell_type": "markdown",
   "id": "079b5ff9",
   "metadata": {},
   "source": [
    "## Summary of the notebook\n",
    "\n",
    "0. Import of **libraries**\n",
    "\n",
    "1. **Import and treatment** of first dataset (the movie one)\n",
    "\n",
    "2. **Import and treatment** of second dataset (the proportion of feminine population by country and year)\n",
    "\n",
    "3. **First plot** showing the number of actor by gender and region\n",
    "\n",
    "4. **Second plot** showing a heatmap of proportion of women by generation and region\n",
    "\n",
    "5. With the use of the first 2 datasets, **calculation of** the over- or under- **representation** of women in movie\n",
    "\n",
    "6. **Third plot:** interactive maps of representation by generation"
   ]
  },
  {
   "cell_type": "markdown",
   "id": "929c0292",
   "metadata": {},
   "source": [
    "#### 0. Import of libraries"
   ]
  },
  {
   "cell_type": "code",
   "execution_count": 1,
   "id": "b5843cf2-9cf8-4e55-83fd-76b2e391944d",
   "metadata": {},
   "outputs": [],
   "source": [
    "import os\n",
    "import pandas as pd\n",
    "import numpy as np\n",
    "import matplotlib.pyplot as plt\n",
    "import plotly.express as px\n",
    "import plotly.graph_objects as go\n",
    "import json"
   ]
  },
  {
   "cell_type": "code",
   "execution_count": 2,
   "id": "bc9818db",
   "metadata": {},
   "outputs": [],
   "source": [
    "#data_folder = \"C:/Users/bapti/ADA2024-projet/MovieSummaries/\" #Baptiste\n",
    "#data_folder = \"C:/Users/cricl/PROJADA/MovieSummaries/MovieSummaries/\" #Etienne\n",
    "data_folder = \"C:/Users/locar/Desktop/Project ADA/ada-2024-project-ecureuilscosmiques24/\" #Léo\n",
    "#data_folder = \"C:/Users/thoma/Documents/ADA_Projet_Data/MovieSummaries/\" #Thomas\n",
    "########### A CHANGER LE PATH DU FOLDER ##################"
   ]
  },
  {
   "cell_type": "markdown",
   "id": "6f97f82d",
   "metadata": {},
   "source": [
    "#### 1. Import and treatment of the first dataset (cleaned_countries.csv)\n",
    "Here, a function to add generation is created, generation are 25-year periods of movie release.\n",
    "\n",
    "Then, by using a json file of the countries of the world, we add a ISO column corresponding to the 3 letter code for the country. The json file will be used later to create to world map."
   ]
  },
  {
   "cell_type": "code",
   "execution_count": 3,
   "id": "10c32c90-b2a7-4f2e-af2d-3433c82d4c40",
   "metadata": {},
   "outputs": [],
   "source": [
    "df = pd.read_csv(data_folder+'data_cleaned_countries.csv')\n",
    "df = df[['Movie_release_date', 'Actor_gender_male', 'Main_country', 'Region']] #remove unused columns\n",
    "\n",
    "def gen25(year):\n",
    "    if 1900<year<=1925:\n",
    "        return \"1900-1925\"\n",
    "    if 1925<year<=1950:\n",
    "        return \"1925-1950\"\n",
    "    if 1950<year<=1975:\n",
    "        return \"1950-1975\"\n",
    "    if 1975<year<=2000:\n",
    "        return \"1975-2000\"\n",
    "    if 2000<year<= 2025:\n",
    "        return \"2000-2020\"\n",
    "\n",
    "order = [\"2000-2020\",\"1975-2000\",\"1950-1975\",\"1925-1950\",\"1900-1925\"]\n",
    "\n",
    "df['Generation'] = df['Movie_release_date'].apply(gen25)\n",
    "df['Generation'] = df['Generation'].astype(\"category\")\n",
    "df['Generation'].cat.reorder_categories(order, ordered= True)\n",
    "\n",
    "#opening json file to add the iso file\n",
    "with open('countries.geo.json', 'r') as file:\n",
    "    json_data = json.load(file)\n",
    "\n",
    "#adding ISO to the df\n",
    "country_iso_mapping = {feature[\"properties\"][\"name\"]: feature[\"id\"] for feature in json_data[\"features\"]}\n",
    "df[\"ISO\"] = df[\"Main_country\"].map(country_iso_mapping)"
   ]
  },
  {
   "cell_type": "markdown",
   "id": "0490db3b",
   "metadata": {},
   "source": [
    "#### 2. Import and treatment of second dataset (share-population-female.csv)\n",
    "\n",
    "This dataset contains the proportion of women in all the countries of the world per year from 1950 to 2020. What we do is creating the average value for each generation and country of this proportion. This will allow us to see if women are over- or under- represented in each country that has enough data.\n",
    "\n",
    "Since the data goes only from 1950. The two first generation are ignored."
   ]
  },
  {
   "cell_type": "code",
   "execution_count": 4,
   "id": "daf70c1e",
   "metadata": {},
   "outputs": [],
   "source": [
    "df2 = pd.read_csv(data_folder+'female_population_prop.csv')\n",
    "df2.rename(columns={'Entity': 'Country', 'Code': 'ISO','Population, female (% of total population)': 'F_prop_population'},inplace=True)\n",
    "df2['Generation'] = df2['Year'].apply(gen25)\n",
    "\n",
    "df2 = df2[['Country', 'ISO', 'Generation', 'F_prop_population']]\n",
    "df2['F_prop_population']/= 100\n",
    "df2 = df2.groupby(['Country','ISO', 'Generation'])['F_prop_population'].mean().reset_index()"
   ]
  },
  {
   "cell_type": "markdown",
   "id": "86b45daa",
   "metadata": {},
   "source": [
    "##### 3. First generic plot showing the number of actor by gender and by region"
   ]
  },
  {
   "cell_type": "code",
   "execution_count": 5,
   "id": "18452eec",
   "metadata": {},
   "outputs": [
    {
     "name": "stdout",
     "output_type": "stream",
     "text": [
      "Plot saved.\n"
     ]
    }
   ],
   "source": [
    "df_plot = df[df['Region'] != \"Dead country\"]\n",
    "df_plot = pd.crosstab(df_plot['Region'], df_plot['Actor_gender_male'])\n",
    "df_plot['Total'] = df_plot.sum(axis=1)  \n",
    "df_plot = df_plot.sort_values('Total', ascending=False).drop(columns='Total')\n",
    "\n",
    "fig = go.Figure()\n",
    "\n",
    "for gender in df_plot.columns:\n",
    "    fig.add_trace(go.Bar(\n",
    "        x=df_plot.index,\n",
    "        y=df_plot[gender],\n",
    "        name=gender,\n",
    "        marker=dict(opacity=0.7)\n",
    "    ))\n",
    "\n",
    "fig.update_layout(\n",
    "    barmode='group',\n",
    "    title=\"Number of actors by region and gender\",\n",
    "    xaxis_title=\"Region\",\n",
    "    yaxis_title=\"Number of actors (log scale)\",\n",
    "    yaxis_type=\"log\",\n",
    "    legend_title=\"Actor Gender\",\n",
    "    template=\"plotly_white\"\n",
    ")\n",
    "\n",
    "fig.write_html(\"plots/bar_chart_region_actors.html\")\n",
    "print('Plot saved.')\n"
   ]
  },
  {
   "cell_type": "markdown",
   "id": "5c4000e4",
   "metadata": {},
   "source": [
    "##### 4. Second plot: heatmap by generation and region"
   ]
  },
  {
   "cell_type": "code",
   "execution_count": 6,
   "id": "7656b9bf",
   "metadata": {},
   "outputs": [
    {
     "name": "stdout",
     "output_type": "stream",
     "text": [
      "Plot saved.\n"
     ]
    }
   ],
   "source": [
    "#Gives a table of proportion\n",
    "'''\n",
    "df: the dataset\n",
    "scale: either 'Region' or 'Main_country'\n",
    "threshold: put a NaN instead of the proportion if there is not enough movies for that case\n",
    "order: order of the generations\n",
    "'''\n",
    "def get_proportion(df, scale, threshold, order):\n",
    "    df = df[df['Region'] != \"Dead country\"] #remove dead countries\n",
    "    total_counts = pd.crosstab(df['Generation'], df[scale])\n",
    "    female_counts = pd.crosstab(df[df['Actor_gender_male'] == 0]['Generation'], \n",
    "                                df[df['Actor_gender_male'] == 0][scale])\n",
    "    mask = total_counts < threshold\n",
    "    proportions = female_counts / total_counts\n",
    "    proportions = proportions.mask(mask, other=np.nan)\n",
    "    proportions = proportions.reindex(order)\n",
    "    return proportions\n",
    "\n",
    "threshold = 90\n",
    "proportions_region = get_proportion(df, 'Region', threshold, order)\n",
    "#order by number of movies\n",
    "proportions_region = proportions_region[['North America', 'West Europa', 'Asia', 'East Europa', 'Oceania', 'South America', 'Africa']]\n",
    "\n",
    "\n",
    "fig = px.imshow(\n",
    "    proportions_region.values,\n",
    "    labels=dict(x=\"Region\", y=\"Generation\", color=\"Proportion of Female Actors\"),\n",
    "    x=proportions_region.columns, \n",
    "    y=proportions_region.index,\n",
    "    color_continuous_scale=\"RdBu\",\n",
    "    zmin=0.22,zmax=0.42,\n",
    "    text_auto=\".2f\"\n",
    "    )\n",
    "fig.update_layout(\n",
    "    title=\"Proportion of female actors by generation\",\n",
    "    xaxis_title=\"Region\",\n",
    "    yaxis_title=\"Generation\",\n",
    "    coloraxis_colorbar=dict(title=\"Proportion\"),\n",
    "    template=\"plotly_white\"\n",
    "    )\n",
    "\n",
    "fig.write_html(\"plots/heatmap_female_actors.html\")\n",
    "print('Plot saved.')\n"
   ]
  },
  {
   "cell_type": "markdown",
   "id": "793e7555",
   "metadata": {},
   "source": [
    "##### 5. Cleaning proportion by country dataset and calculation of the representation"
   ]
  },
  {
   "cell_type": "code",
   "execution_count": 7,
   "id": "ee7540df",
   "metadata": {},
   "outputs": [],
   "source": [
    "#getting the proportion by country (and not by region like for the heatmap)\n",
    "proportions_country = get_proportion(df, 'ISO', threshold, order)\n",
    "\n",
    "proportions_country = proportions_country.reset_index()\n",
    "proportions_long = pd.melt(proportions_country, id_vars=['Generation'], var_name='ISO', value_name='F_movie_proportion')\n",
    "\n",
    "#merge the dataframe of proportion in movies with df2 (proportion in population)\n",
    "df_proportions = pd.merge(df2, proportions_long, on=['ISO', 'Generation'], how='left')\n",
    "\n",
    "df_proportions = df_proportions.dropna(subset=[\"F_movie_proportion\"])\n",
    "\n",
    "#computing the representation\n",
    "df_proportions['Representation'] = (df_proportions['F_movie_proportion']/df_proportions['F_prop_population']-1)\n",
    "\n",
    "#keeping only interesting columns\n",
    "df_proportions = df_proportions[['Country', 'ISO','Generation','Representation']]\n",
    "\n",
    "#calculate net evo\n",
    "valid_countries = df_proportions.groupby(\"Country\").filter(lambda x:len(x)==3)\n",
    "\n",
    "net_evo = valid_countries.pivot(index=['Country', 'ISO'], columns='Generation', values='Representation')\n",
    "net_evo[\"net_evolution\"] = net_evo['2000-2020']-net_evo['1950-1975']\n",
    "\n",
    "net_evo = net_evo.reset_index()[['Country', 'ISO', 'net_evolution']]\n"
   ]
  },
  {
   "cell_type": "markdown",
   "id": "e295b978",
   "metadata": {},
   "source": [
    "##### 6. Plot of the representation by country in a world map for each generation "
   ]
  },
  {
   "cell_type": "code",
   "execution_count": 9,
   "id": "0435b783",
   "metadata": {},
   "outputs": [
    {
     "name": "stdout",
     "output_type": "stream",
     "text": [
      "HTML plot saved.\n"
     ]
    }
   ],
   "source": [
    "df_1950 = df_proportions[df_proportions['Generation'] == '1950-1975']\n",
    "df_1975 = df_proportions[df_proportions['Generation'] == '1975-2000']\n",
    "df_2000 = df_proportions[df_proportions['Generation'] == '2000-2020']\n",
    "\n",
    "#échelle pour les map des gens\n",
    "colors=[[0, \"red\"], [0.75, \"white\"], [1, \"blue\"]]\n",
    "min_scale = -0.6\n",
    "max_scale = 0.2\n",
    "\n",
    "\n",
    "fig = go.Figure()\n",
    "\n",
    "#gen 1950-1975\n",
    "fig.add_trace(go.Choropleth(\n",
    "    geojson=json_data,\n",
    "    locations=df_1950[\"ISO\"],\n",
    "    z=np.round(df_1950[\"Representation\"], 2),\n",
    "    colorscale=colors,\n",
    "    zmin=min_scale,zmax=max_scale,\n",
    "    hovertext=df_1950[\"Country\"],\n",
    "    hoverinfo=\"text+z\",\n",
    "    visible=True,\n",
    "    colorbar_title=\"Representation\"\n",
    "))\n",
    "\n",
    "#gen 1975-2000\n",
    "fig.add_trace(go.Choropleth(\n",
    "    geojson=json_data,\n",
    "    locations=df_1975[\"ISO\"],\n",
    "    z=np.round(df_1975[\"Representation\"], 2),\n",
    "    colorscale=colors,\n",
    "    zmin=min_scale,zmax=max_scale,\n",
    "    hovertext=df_1975[\"Country\"],\n",
    "    hoverinfo=\"text+z\",\n",
    "    visible=False,\n",
    "    colorbar_title=\"Representation\"\n",
    "))\n",
    "\n",
    "#gen 2000-2020\n",
    "fig.add_trace(go.Choropleth(\n",
    "    geojson=json_data,\n",
    "    locations=df_2000[\"ISO\"],\n",
    "    z=np.round(df_2000[\"Representation\"], 2),\n",
    "    colorscale=colors,\n",
    "    zmin=min_scale,zmax=max_scale,\n",
    "    hovertext=df_2000[\"Country\"],\n",
    "    hoverinfo=\"text+z\",\n",
    "    visible=False,\n",
    "    colorbar_title=\"Representation\"\n",
    "))\n",
    "\n",
    "#layer of net evolution\n",
    "fig.add_trace(go.Choropleth(\n",
    "    geojson=json_data,\n",
    "    locations=net_evo[\"ISO\"],\n",
    "    z=np.round(net_evo[\"net_evolution\"], 2),\n",
    "    colorscale=[[0, \"purple\"], [0.5, \"white\"], [1, \"green\"]],\n",
    "    zmin=-0.4,zmax=0.4,\n",
    "    hovertext=net_evo[\"Country\"],\n",
    "    hoverinfo=\"text+z\",\n",
    "    visible=False,\n",
    "    colorbar_title=\"Net Evolution\"\n",
    "))\n",
    "\n",
    "#add cursor\n",
    "fig.update_layout(\n",
    "    sliders=[\n",
    "        dict(\n",
    "            active=0,\n",
    "            currentvalue={\"prefix\": \"Generation: \"},\n",
    "            pad={\"t\": 50},  # Padding from the top\n",
    "            steps=[\n",
    "                dict(label=\"1950-1975\", method=\"update\", args=[{\"visible\": [True, False, False, False]}]),  # gen1\n",
    "                dict(label=\"1975-2000\", method=\"update\", args=[{\"visible\": [False, True, False, False]}]),  # gen2\n",
    "                dict(label=\"2000-2020\", method=\"update\", args=[{\"visible\": [False, False, True, False]}]),  # gen3\n",
    "                dict(label=\"Net evolution\", method=\"update\", args=[{\"visible\": [False, False, False, True]}])  # evo\n",
    "            ]\n",
    "        )\n",
    "    ],\n",
    "    title=\"Representation of women in movies across generations\",\n",
    "    title_x=0.5\n",
    ")\n",
    "\n",
    "\n",
    "#geographic layout and projection\n",
    "fig.update_geos(\n",
    "    showcountries=True,\n",
    "    countrycolor=\"Black\",\n",
    "    projection_type=\"equirectangular\"\n",
    ")\n",
    "\n",
    "fig.write_html(\"plots/women_representation_map.html\")\n",
    "print(\"HTML plot saved.\")\n",
    "#fig.show()"
   ]
  }
 ],
 "metadata": {
  "kernelspec": {
   "display_name": "Python 3",
   "language": "python",
   "name": "python3"
  },
  "language_info": {
   "codemirror_mode": {
    "name": "ipython",
    "version": 3
   },
   "file_extension": ".py",
   "mimetype": "text/x-python",
   "name": "python",
   "nbconvert_exporter": "python",
   "pygments_lexer": "ipython3",
   "version": "3.11.0"
  }
 },
 "nbformat": 4,
 "nbformat_minor": 5
}
